{
 "cells": [
  {
   "cell_type": "code",
   "execution_count": 1,
   "id": "942f2872",
   "metadata": {},
   "outputs": [
    {
     "name": "stdout",
     "output_type": "stream",
     "text": [
      "Orange & Avocado Mix (3.5L)\n"
     ]
    }
   ],
   "source": [
    "class Juice:\n",
    "    def __init__(self, name, capacity):\n",
    "        self.name = name\n",
    "        self.capacity = capacity\n",
    "    \n",
    "    def __str__(self):\n",
    "        return (self.name + ' (' + str(self.capacity) + 'L)')\n",
    "    \n",
    "    def __add__(self, other):\n",
    "        self.name = self.name + ' & ' + other.name + ' Mix'\n",
    "        self.capacity = self.capacity + other.capacity\n",
    "        return self.__str__\n",
    "    \n",
    "first = Juice('Orange', 1.5)\n",
    "second = Juice('Avocado', 2.0)\n",
    "\n",
    "print(first.__add__(second)())"
   ]
  },
  {
   "cell_type": "markdown",
   "id": "0277b881",
   "metadata": {},
   "source": [
    "Juice Maker is a problem with a Juice class, which has name and capacity properties.\n",
    "We need to add two juice objects to make a new Juice object with the combined capacity and names of the two juices being added.\n",
    "For example if we add an Orange juice with 1.5L capacity and an Avocado juice with 2.0L capacity, the resulting juice should have\n",
    "Orange & Avocado name and 3.5L capacity\n",
    "\n",
    "We have used magic method __add__ to define a custom behaviour for the + operator and return the resulting object."
   ]
  }
 ],
 "metadata": {
  "kernelspec": {
   "display_name": "Python 3",
   "language": "python",
   "name": "python3"
  },
  "language_info": {
   "codemirror_mode": {
    "name": "ipython",
    "version": 3
   },
   "file_extension": ".py",
   "mimetype": "text/x-python",
   "name": "python",
   "nbconvert_exporter": "python",
   "pygments_lexer": "ipython3",
   "version": "3.8.10"
  }
 },
 "nbformat": 4,
 "nbformat_minor": 5
}
