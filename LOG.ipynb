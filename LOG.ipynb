{
 "cells": [
  {
   "cell_type": "code",
   "execution_count": 1,
   "id": "figured-economics",
   "metadata": {},
   "outputs": [
    {
     "name": "stdout",
     "output_type": "stream",
     "text": [
      "Enter the base:2\n",
      "Enter the number:16\n",
      "4.0\n"
     ]
    }
   ],
   "source": [
    "# Using built-in function\n",
    "\n",
    "import math\n",
    "base = float(input(\"Enter the base:\"))\n",
    "number = float(input(\"Enter the number:\"))\n",
    "\n",
    "def log(num):\n",
    "    first = math.log10(num)\n",
    "    final = first/(math.log10(base))\n",
    "    print(final)\n",
    "log(number)"
   ]
  },
  {
   "cell_type": "code",
   "execution_count": 2,
   "id": "fatal-palestine",
   "metadata": {},
   "outputs": [
    {
     "name": "stdout",
     "output_type": "stream",
     "text": [
      "Enter the base:2\n",
      "Enter the number:16\n"
     ]
    },
    {
     "data": {
      "text/plain": [
       "4.000000000000001"
      ]
     },
     "execution_count": 2,
     "metadata": {},
     "output_type": "execute_result"
    }
   ],
   "source": [
    "# Using taylor series\n",
    "\n",
    "base = float(input(\"Enter the base:\"))\n",
    "number = float(input(\"Enter the number:\"))\n",
    "def ln(num):\n",
    "    if(num <= 0):\n",
    "        print(\"Cannot find log for negative value.\")\n",
    "        \n",
    "    sum = 0\n",
    "    for i in range(1,10000):\n",
    "        if(i % 2 == 1):\n",
    "            temp = pow(((num-1)/(num+1)), i)/i\n",
    "            sum += temp*2\n",
    "    return(sum)\n",
    "            \n",
    "def log(num,base):\n",
    "    return ln(num)/ln(base)\n",
    "\n",
    "log(number,base)"
   ]
  },
  {
   "cell_type": "code",
   "execution_count": null,
   "id": "invisible-bottle",
   "metadata": {},
   "outputs": [],
   "source": []
  }
 ],
 "metadata": {
  "kernelspec": {
   "display_name": "Python 3",
   "language": "python",
   "name": "python3"
  },
  "language_info": {
   "codemirror_mode": {
    "name": "ipython",
    "version": 3
   },
   "file_extension": ".py",
   "mimetype": "text/x-python",
   "name": "python",
   "nbconvert_exporter": "python",
   "pygments_lexer": "ipython3",
   "version": "3.8.5"
  }
 },
 "nbformat": 4,
 "nbformat_minor": 5
}
