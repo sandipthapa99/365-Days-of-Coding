{
 "cells": [
  {
   "cell_type": "code",
   "execution_count": 4,
   "metadata": {},
   "outputs": [
    {
     "name": "stdout",
     "output_type": "stream",
     "text": [
      "Enter a number:0\n",
      "Factorial of 0 is: 1\n"
     ]
    }
   ],
   "source": [
    "num=int(input(\"Enter a number:\"))\n",
    "\n",
    "def factorial(num):\n",
    "    if num==1:\n",
    "        return num\n",
    "    else:\n",
    "        return num*factorial(num-1)\n",
    "    \n",
    "if num==0:\n",
    "    print(\"Factorial of 0 is: 1\")\n",
    "elif num<0:\n",
    "    print(\"Factorial for negative number cannot be calculated!\")\n",
    "else:\n",
    "    print(\"Factorial of\", num, \"is:\", factorial(num))"
   ]
  },
  {
   "cell_type": "code",
   "execution_count": null,
   "metadata": {},
   "outputs": [],
   "source": []
  },
  {
   "cell_type": "code",
   "execution_count": 5,
   "metadata": {},
   "outputs": [
    {
     "name": "stdout",
     "output_type": "stream",
     "text": [
      "Enter a number:2\n",
      "2 is a prime number\n"
     ]
    }
   ],
   "source": [
    "#checking if a number is a prime number or not\n",
    "try:\n",
    "    num = int(input(\"Enter a number:\"))\n",
    "    if num>1: #prime numbers are always greater than 1\n",
    "        for i in range(2,num):\n",
    "            if (num % i) == 0:\n",
    "                print(num, \"is not a prime number\")\n",
    "                break\n",
    "        else: #this works specifically for number \"2\"\n",
    "            print(num, \"is a prime number\")\n",
    "\n",
    "    elif num<1:\n",
    "        print(\"Negative integers cannot be prime\")\n",
    "    else:\n",
    "        print(num, \"is not a prime number\")\n",
    "except ValueError:\n",
    "    print(\"Invalid Input!\")\n",
    "    "
   ]
  },
  {
   "cell_type": "code",
   "execution_count": null,
   "metadata": {},
   "outputs": [],
   "source": []
  },
  {
   "cell_type": "code",
   "execution_count": 4,
   "metadata": {},
   "outputs": [
    {
     "name": "stdout",
     "output_type": "stream",
     "text": [
      "Enter a number:-1\n",
      "Stop giving negative numbers\n"
     ]
    }
   ],
   "source": [
    "#Sum of square of first n natural numbers\n",
    "\n",
    "try:\n",
    "    num=int(input(\"Enter a number:\"))\n",
    "\n",
    "    def sum(num):\n",
    "        result=0\n",
    "        if num < 0:\n",
    "            print(num, \"is not a natural number!\")\n",
    "            return\n",
    "        else:\n",
    "            for i in range(1,num+1):\n",
    "                result=result + (i*i)\n",
    "            return result\n",
    "    print(f\"The sum of square of first {num} natural number is: {sum(num)}\" if num>0 else \"Stop giving negative numbers\")\n",
    "\n",
    "    \n",
    "except ValueError:\n",
    "    print(\"Invalid Input\")\n"
   ]
  },
  {
   "cell_type": "code",
   "execution_count": 7,
   "metadata": {},
   "outputs": [
    {
     "name": "stdout",
     "output_type": "stream",
     "text": [
      "Enter a number: afasdfasf\n",
      "Invalid Input\n"
     ]
    }
   ],
   "source": [
    "#better way\n",
    "def sum(num):\n",
    "    for i in range(1,num+1):\n",
    "        resullt = result + (i*i)\n",
    "    return result\n",
    "\n",
    "try:\n",
    "    num=int(input(\"Enter a number: \"))\n",
    "    if num < 0:\n",
    "        print(num, \"is not a natural number!\")\n",
    "    else:\n",
    "        sum(num)\n",
    "except ValueError:\n",
    "    print(\"Invalid Input\")"
   ]
  },
  {
   "cell_type": "code",
   "execution_count": 20,
   "metadata": {},
   "outputs": [
    {
     "name": "stdout",
     "output_type": "stream",
     "text": [
      "Enter a number:0\n",
      "The sum of square of first 0 natural number is: 0\n"
     ]
    }
   ],
   "source": [
    "#Sum of square of first n natural numbers\n",
    "\n",
    "try:\n",
    "    num=int(input(\"Enter a number:\"))\n",
    "\n",
    "    result=0\n",
    "    if num < 0:\n",
    "        print(num, \"is not a natural number!\")\n",
    "    else:\n",
    "        for i in range(1,num+1):\n",
    "            result=result + (i*i)\n",
    "        print(\"The sum of square of first\", num, \"natural number is:\",result)\n",
    "except ValueError:\n",
    "    print(\"Invalid Input\")"
   ]
  },
  {
   "cell_type": "code",
   "execution_count": 35,
   "metadata": {},
   "outputs": [
    {
     "name": "stdout",
     "output_type": "stream",
     "text": [
      "Enter lower limit:2\n",
      "Enter upper limit:100\n",
      "Prime numbers: [2, 3, 5, 7, 11, 13, 17, 19, 23, 29, 31, 37, 41, 43, 47, 53, 59, 61, 67, 71, 73, 79, 83, 89, 97]\n",
      "There are total 25 prime numbers\n"
     ]
    }
   ],
   "source": [
    "try:\n",
    "    num1 = int(input(\"Enter lower limit:\"))\n",
    "    num2 = int(input(\"Enter upper limit:\"))\n",
    "    prime=[]\n",
    "    \n",
    "    if num1>num2:\n",
    "        print(\"Sorry, lower limit cannot be greater than upper limit!\")\n",
    "    elif num1<=1:\n",
    "        print(\"Prime numbers are always greater than 1!\")\n",
    "    else:\n",
    "        for num in range(num1,num2+1):\n",
    "            if num>1: #prime numbers are always greater than 1\n",
    "                for i in range(2,num):\n",
    "                    if (num % i) == 0:\n",
    "                        #print(num, \"is not a prime number\")\n",
    "                        break\n",
    "                else: #this works specifically for number \"2\"\n",
    "                    #print(num, \"is a prime number\")\n",
    "                    prime.append(num)       \n",
    "            else:\n",
    "                break\n",
    "                #print(num, \"is not a prime number\")\n",
    "        print(\"Prime numbers:\",prime)\n",
    "        print(\"There are total {} prime numbers\".format(len(prime)))\n",
    "    \n",
    "except ValueError:\n",
    "    print(\"Invaid Input\")"
   ]
  },
  {
   "cell_type": "code",
   "execution_count": 12,
   "metadata": {},
   "outputs": [
    {
     "name": "stdout",
     "output_type": "stream",
     "text": [
      "Enter lower limit:1\n",
      "Enter highest limit:100\n",
      "Prime numbers: [1, 2, 3, 5, 7, 11, 13, 17, 19, 23, 29, 31, 37, 41, 43, 47, 53, 59, 61, 67, 71, 73, 79, 83, 89, 97]\n",
      "There are total 26 prime numbers\n"
     ]
    }
   ],
   "source": [
    "#To output prime numbers in between given range\n",
    "try:\n",
    "    num1 = int(input(\"Enter lower limit:\"))\n",
    "    num2 = int(input(\"Enter highest limit:\"))\n",
    "    prime=[]\n",
    "\n",
    "    for num in range(num1,num2+1):\n",
    "        for i in range(2,num):\n",
    "            if (num % i) == 0:\n",
    "                #print(num, \"is not a prime number\")\n",
    "                break\n",
    "        else: #this works specifically for number \"2\"\n",
    "            #print(num, \"is a prime number\")\n",
    "            prime.append(num)       \n",
    "    print(\"Prime numbers:\",prime)\n",
    "    print(\"There are total {} prime numbers\".format(len(prime)))\n",
    "    \n",
    "except ValueError:\n",
    "    print(\"Invaid Input\")"
   ]
  }
 ],
 "metadata": {
  "kernelspec": {
   "display_name": "Python 3",
   "language": "python",
   "name": "python3"
  },
  "language_info": {
   "codemirror_mode": {
    "name": "ipython",
    "version": 3
   },
   "file_extension": ".py",
   "mimetype": "text/x-python",
   "name": "python",
   "nbconvert_exporter": "python",
   "pygments_lexer": "ipython3",
   "version": "3.8.5"
  }
 },
 "nbformat": 4,
 "nbformat_minor": 4
}
