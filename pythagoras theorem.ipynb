{
 "cells": [
  {
   "cell_type": "code",
   "execution_count": 1,
   "id": "infinite-level",
   "metadata": {},
   "outputs": [
    {
     "name": "stdout",
     "output_type": "stream",
     "text": [
      "Sides of the Triangle: A, B, C\n",
      "A and B are base and Perpendicular as per your need.\n",
      "C is the hypotenuse\n",
      "Choose which side to calculate: C\n",
      "Length of side A:3\n",
      "Length of side B:4\n",
      "Length of side C is: 5.0\n"
     ]
    }
   ],
   "source": [
    "from math import sqrt\n",
    "\n",
    "print('Sides of the Triangle: A, B, C')\n",
    "print('A and B are base and Perpendicular as per your need.')\n",
    "print('C is the hypotenuse')\n",
    "side = input('Choose which side to calculate: ')\n",
    "\n",
    "if side == 'A':\n",
    "    side_b = int(input('Length of side B:'))\n",
    "    side_c = int(input('Length of side C:'))\n",
    "    side_a = sqrt((side_c * side_c) - (side_b * side_b)) \n",
    "    print('Length of side A is:',side_a)\n",
    "\n",
    "elif side == 'B':\n",
    "    side_a = int(input('Length of side A:'))\n",
    "    side_b = int(input('Length of side C:'))   \n",
    "    side_c = sqrt(side_c * side_c - side_a * side_a)\n",
    "    print('Length of side B is', side_c)\n",
    "elif side == 'C':\n",
    "    side_a = int(input('Length of side A:'))\n",
    "    side_b = int(input('Length of side B:'))\n",
    "    side_c = sqrt(side_a * side_a + side_b * side_b)\n",
    "    print('Length of side C is:',side_c)\n",
    "\n",
    "else:\n",
    "    print('Please select a side: A, B, C')"
   ]
  }
 ],
 "metadata": {
  "kernelspec": {
   "display_name": "Python 3",
   "language": "python",
   "name": "python3"
  },
  "language_info": {
   "codemirror_mode": {
    "name": "ipython",
    "version": 3
   },
   "file_extension": ".py",
   "mimetype": "text/x-python",
   "name": "python",
   "nbconvert_exporter": "python",
   "pygments_lexer": "ipython3",
   "version": "3.8.5"
  }
 },
 "nbformat": 4,
 "nbformat_minor": 5
}
