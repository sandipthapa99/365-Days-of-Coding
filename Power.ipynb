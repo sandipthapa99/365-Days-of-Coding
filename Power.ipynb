{
 "cells": [
  {
   "cell_type": "code",
   "execution_count": 1,
   "id": "third-country",
   "metadata": {},
   "outputs": [
    {
     "name": "stdout",
     "output_type": "stream",
     "text": [
      "Enter base:3\n",
      "Enter power:7\n",
      "3 to the power 7 is 2187\n"
     ]
    }
   ],
   "source": [
    "def func(a,b):\n",
    "    if b==0:\n",
    "        return 1\n",
    "    elif a==0:\n",
    "        return 0\n",
    "    elif b==1:\n",
    "        return a\n",
    "    else:\n",
    "        return a*func(a,b-1)\n",
    "x = int(input(\"Enter base:\"))\n",
    "y = int(input(\"Enter power:\"))\n",
    "print(x,\"to the power\",y,\"is\",func(x,y))"
   ]
  }
 ],
 "metadata": {
  "kernelspec": {
   "display_name": "Python 3",
   "language": "python",
   "name": "python3"
  },
  "language_info": {
   "codemirror_mode": {
    "name": "ipython",
    "version": 3
   },
   "file_extension": ".py",
   "mimetype": "text/x-python",
   "name": "python",
   "nbconvert_exporter": "python",
   "pygments_lexer": "ipython3",
   "version": "3.8.5"
  }
 },
 "nbformat": 4,
 "nbformat_minor": 5
}
