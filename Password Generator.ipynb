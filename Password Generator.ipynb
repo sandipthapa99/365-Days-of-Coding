{
 "cells": [
  {
   "cell_type": "code",
   "execution_count": 1,
   "id": "affiliated-carolina",
   "metadata": {},
   "outputs": [],
   "source": [
    "import string as str\n",
    "from random import *"
   ]
  },
  {
   "cell_type": "code",
   "execution_count": 48,
   "id": "third-visiting",
   "metadata": {},
   "outputs": [
    {
     "name": "stdout",
     "output_type": "stream",
     "text": [
      "Alphabets: abcdefghijklmnopqrstuvwxyzABCDEFGHIJKLMNOPQRSTUVWXYZ\n",
      "Numbers: 0123456789\n",
      "Special Characters: !\"#$%&'()*+,-./:;<=>?@[\\]^_`{|}~\n"
     ]
    }
   ],
   "source": [
    "alphabets = str.ascii_letters\n",
    "print(\"Alphabets:\", alphabets)\n",
    "\n",
    "numbers = str.digits\n",
    "print(\"Numbers:\",numbers)\n",
    "\n",
    "special_characters=str.punctuation\n",
    "print(\"Special Characters:\",special_characters)\n",
    "\n",
    "combination = alphabets + numbers + special_characters\n",
    "password =\"\".join(choice(combination) for x in range(randint(8,12)))"
   ]
  },
  {
   "cell_type": "code",
   "execution_count": 50,
   "id": "academic-pharmaceutical",
   "metadata": {},
   "outputs": [
    {
     "name": "stdout",
     "output_type": "stream",
     "text": [
      "Generated password:\n",
      " ?Q0>(q%E9x\n"
     ]
    }
   ],
   "source": [
    "print(\"Generated password:\\n\",password)"
   ]
  },
  {
   "cell_type": "code",
   "execution_count": null,
   "id": "sought-nothing",
   "metadata": {},
   "outputs": [],
   "source": []
  }
 ],
 "metadata": {
  "kernelspec": {
   "display_name": "Python 3",
   "language": "python",
   "name": "python3"
  },
  "language_info": {
   "codemirror_mode": {
    "name": "ipython",
    "version": 3
   },
   "file_extension": ".py",
   "mimetype": "text/x-python",
   "name": "python",
   "nbconvert_exporter": "python",
   "pygments_lexer": "ipython3",
   "version": "3.8.5"
  }
 },
 "nbformat": 4,
 "nbformat_minor": 5
}
