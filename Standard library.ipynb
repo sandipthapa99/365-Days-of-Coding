{
 "cells": [
  {
   "cell_type": "code",
   "execution_count": 1,
   "id": "proprietary-calvin",
   "metadata": {},
   "outputs": [
    {
     "name": "stdout",
     "output_type": "stream",
     "text": [
      "Ceiling of 27.5          ==> 28\n",
      "Floor of 27.5            ==> 27\n",
      "Absolute value of (-4.2) ==> 4.2\n",
      "Factorial of 5           ==> 120\n",
      "Exponential of 4         ==> 54.598150033144236\n",
      "Log 4 to the base 2      ==> 2.0\n",
      "3 to the powwer 2        ==> 9.0\n",
      "Square root of 81        ==> 9.0\n",
      "Value of pi              ==> 3.141592653589793\n",
      "Value of e               ==> 2.718281828459045\n"
     ]
    }
   ],
   "source": [
    "import math\n",
    "print(\"Ceiling of 27.5          ==>\",math.ceil(27.5))\n",
    "print(\"Floor of 27.5            ==>\",math.floor(27.5))\n",
    "print(\"Absolute value of (-4.2) ==>\",math.fabs(-4.2))\n",
    "print(\"Factorial of 5           ==>\",math.factorial(5))\n",
    "print(\"Exponential of 4         ==>\",math.exp(4))\n",
    "print(\"Log 4 to the base 2      ==>\",math.log(4,2)) # log4/log2\n",
    "print(\"3 to the powwer 2        ==>\",math.pow(3,2))\n",
    "print(\"Square root of 81        ==>\",math.sqrt(81))\n",
    "print(\"Value of pi              ==>\",math.pi)\n",
    "print(\"Value of e               ==>\",math.e)"
   ]
  }
 ],
 "metadata": {
  "kernelspec": {
   "display_name": "Python 3",
   "language": "python",
   "name": "python3"
  },
  "language_info": {
   "codemirror_mode": {
    "name": "ipython",
    "version": 3
   },
   "file_extension": ".py",
   "mimetype": "text/x-python",
   "name": "python",
   "nbconvert_exporter": "python",
   "pygments_lexer": "ipython3",
   "version": "3.8.5"
  }
 },
 "nbformat": 4,
 "nbformat_minor": 5
}
