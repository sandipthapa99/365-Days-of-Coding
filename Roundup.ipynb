{
 "cells": [
  {
   "cell_type": "code",
   "execution_count": 1,
   "id": "moral-sweet",
   "metadata": {},
   "outputs": [
    {
     "name": "stdout",
     "output_type": "stream",
     "text": [
      "Enter floating number: 357.27912\n",
      "Enter the place to round up: 2\n",
      "Rounded up Number:  357.28\n"
     ]
    }
   ],
   "source": [
    "import math\n",
    "\n",
    "def func(a, digits=0):\n",
    "    n = 10**-digits\n",
    "    return round(math.ceil(a / n) * n, digits)\n",
    "\n",
    "x = float(input(\"Enter floating number: \"))\n",
    "y = int(input(\"Enter the place to round up: \"))\n",
    "print(\"Rounded up Number: \",func(x, y))"
   ]
  }
 ],
 "metadata": {
  "kernelspec": {
   "display_name": "Python 3",
   "language": "python",
   "name": "python3"
  },
  "language_info": {
   "codemirror_mode": {
    "name": "ipython",
    "version": 3
   },
   "file_extension": ".py",
   "mimetype": "text/x-python",
   "name": "python",
   "nbconvert_exporter": "python",
   "pygments_lexer": "ipython3",
   "version": "3.8.5"
  }
 },
 "nbformat": 4,
 "nbformat_minor": 5
}
