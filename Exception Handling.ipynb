{
 "cells": [
  {
   "cell_type": "code",
   "execution_count": 1,
   "id": "compact-circular",
   "metadata": {},
   "outputs": [
    {
     "name": "stdout",
     "output_type": "stream",
     "text": [
      "Exception caught: division by zero\n",
      "\n",
      "This will run no matter what executes.\n"
     ]
    }
   ],
   "source": [
    "try:\n",
    "    a = 7 / 0\n",
    "    print(a)\n",
    "    \n",
    "except ZeroDivisionError as e:\n",
    "    print(\"Exception caught:\",e)\n",
    "    \n",
    "finally:\n",
    "    print(\"\\nThis will run no matter what executes.\")                                 "
   ]
  }
 ],
 "metadata": {
  "kernelspec": {
   "display_name": "Python 3",
   "language": "python",
   "name": "python3"
  },
  "language_info": {
   "codemirror_mode": {
    "name": "ipython",
    "version": 3
   },
   "file_extension": ".py",
   "mimetype": "text/x-python",
   "name": "python",
   "nbconvert_exporter": "python",
   "pygments_lexer": "ipython3",
   "version": "3.8.5"
  }
 },
 "nbformat": 4,
 "nbformat_minor": 5
}
