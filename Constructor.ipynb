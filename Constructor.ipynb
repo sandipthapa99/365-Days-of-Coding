{
 "cells": [
  {
   "cell_type": "code",
   "execution_count": 1,
   "id": "dominant-sarah",
   "metadata": {},
   "outputs": [
    {
     "name": "stdout",
     "output_type": "stream",
     "text": [
      "First Number: 17\n",
      "Second Number: 19\n",
      "Summation: 36\n"
     ]
    }
   ],
   "source": [
    "class Sum:\n",
    "    first = 0\n",
    "    second = 0\n",
    "    result = 0\n",
    "    \n",
    "    # parameterized constructor\n",
    "    def __init__(self, a, b):\n",
    "        self.first = a\n",
    "        self.second = b\n",
    "        \n",
    "    def display(self):\n",
    "        print(\"Summation:\",self.result)\n",
    "        \n",
    "    def calculate(self):\n",
    "        self.result = self.first + self.second\n",
    "        \n",
    "x = int(input(\"First Number: \"))\n",
    "y = int(input(\"Second Number: \"))\n",
    "obj = Sum(x,y)\n",
    "obj.calculate()\n",
    "obj.display()"
   ]
  }
 ],
 "metadata": {
  "kernelspec": {
   "display_name": "Python 3",
   "language": "python",
   "name": "python3"
  },
  "language_info": {
   "codemirror_mode": {
    "name": "ipython",
    "version": 3
   },
   "file_extension": ".py",
   "mimetype": "text/x-python",
   "name": "python",
   "nbconvert_exporter": "python",
   "pygments_lexer": "ipython3",
   "version": "3.8.5"
  }
 },
 "nbformat": 4,
 "nbformat_minor": 5
}
