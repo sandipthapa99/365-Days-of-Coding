{
 "cells": [
  {
   "cell_type": "code",
   "execution_count": 1,
   "id": "hidden-catch",
   "metadata": {},
   "outputs": [
    {
     "name": "stdout",
     "output_type": "stream",
     "text": [
      "Your Gate: True\n",
      "True NOT : False\n"
     ]
    }
   ],
   "source": [
    "def NOT_GATE(a):\n",
    "    if a == 'false':\n",
    "        return True\n",
    "    else:\n",
    "        return False\n",
    "def get_input():\n",
    "    x = input(\"Your Gate: \")\n",
    "    return x\n",
    "def display():\n",
    "    print(x,\"NOT :\",NOT_GATE(x.lower()))\n",
    "x = get_input()  \n",
    "display()"
   ]
  }
 ],
 "metadata": {
  "kernelspec": {
   "display_name": "Python 3",
   "language": "python",
   "name": "python3"
  },
  "language_info": {
   "codemirror_mode": {
    "name": "ipython",
    "version": 3
   },
   "file_extension": ".py",
   "mimetype": "text/x-python",
   "name": "python",
   "nbconvert_exporter": "python",
   "pygments_lexer": "ipython3",
   "version": "3.8.5"
  }
 },
 "nbformat": 4,
 "nbformat_minor": 5
}
