{
 "cells": [
  {
   "cell_type": "code",
   "execution_count": 1,
   "id": "commercial-prison",
   "metadata": {},
   "outputs": [
    {
     "name": "stdout",
     "output_type": "stream",
     "text": [
      "Original list: [1, 4, 5, 2, 6, 1, 7, 2, 8, 3, 7, 8, 2, 5, 1, 3, 8, 2, 7, 3]\n",
      "Frequencies:\n",
      " 1 :  3 times\n",
      " 4 :  1 times\n",
      " 5 :  2 times\n",
      " 2 :  4 times\n",
      " 6 :  1 times\n",
      " 7 :  3 times\n",
      " 8 :  3 times\n",
      " 3 :  3 times\n"
     ]
    }
   ],
   "source": [
    "def func(num_list):\n",
    "    dict1 = {}\n",
    "    for num in num_list:\n",
    "        if (num in dict1):\n",
    "            dict1[num] += 1\n",
    "        else:\n",
    "            dict1[num] = 1\n",
    "            \n",
    "    for key, value in dict1.items():\n",
    "        print (\"% d : % d times\"%(key, value))\n",
    "        \n",
    "num_list =[1,4,5,2,6,1,7,2,8,3,7,8,2,5,1,3,8,2,7,3]\n",
    "print(\"Original list:\",num_list)\n",
    "print(\"Frequencies:\")\n",
    "func(num_list)"
   ]
  }
 ],
 "metadata": {
  "kernelspec": {
   "display_name": "Python 3",
   "language": "python",
   "name": "python3"
  },
  "language_info": {
   "codemirror_mode": {
    "name": "ipython",
    "version": 3
   },
   "file_extension": ".py",
   "mimetype": "text/x-python",
   "name": "python",
   "nbconvert_exporter": "python",
   "pygments_lexer": "ipython3",
   "version": "3.8.5"
  }
 },
 "nbformat": 4,
 "nbformat_minor": 5
}
