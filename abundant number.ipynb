{
 "cells": [
  {
   "cell_type": "code",
   "execution_count": 1,
   "id": "textile-federal",
   "metadata": {},
   "outputs": [
    {
     "name": "stdout",
     "output_type": "stream",
     "text": [
      "True\n",
      "False\n"
     ]
    }
   ],
   "source": [
    "def is_abundant(n):\n",
    "    fctr_sum = sum([fctr for fctr in range(1, n) if n % fctr == 0])\n",
    "    return fctr_sum > n\n",
    "print(is_abundant(12))\n",
    "print(is_abundant(13))"
   ]
  },
  {
   "cell_type": "code",
   "execution_count": 4,
   "id": "manual-architect",
   "metadata": {},
   "outputs": [
    {
     "name": "stdout",
     "output_type": "stream",
     "text": [
      "Enter the number:12\n",
      "\n",
      "12 is an abundant number.\n"
     ]
    }
   ],
   "source": [
    "n =int(input(\"Enter the number:\"))\n",
    "print(\"\")\n",
    "\n",
    "sum = 0;\n",
    "for i in range(1,n):\n",
    "    if n % i == 0:\n",
    "        sum += sum + n\n",
    "if sum > n:\n",
    "    print(str(n) + \" is an abundant number.\")\n",
    "else:\n",
    "    print(str(n) + \" is not an abundant number.\")"
   ]
  },
  {
   "cell_type": "code",
   "execution_count": null,
   "id": "champion-score",
   "metadata": {},
   "outputs": [],
   "source": []
  }
 ],
 "metadata": {
  "kernelspec": {
   "display_name": "Python 3",
   "language": "python",
   "name": "python3"
  },
  "language_info": {
   "codemirror_mode": {
    "name": "ipython",
    "version": 3
   },
   "file_extension": ".py",
   "mimetype": "text/x-python",
   "name": "python",
   "nbconvert_exporter": "python",
   "pygments_lexer": "ipython3",
   "version": "3.8.5"
  }
 },
 "nbformat": 4,
 "nbformat_minor": 5
}
