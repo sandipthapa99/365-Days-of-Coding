{
 "cells": [
  {
   "cell_type": "code",
   "execution_count": 1,
   "id": "mighty-crystal",
   "metadata": {},
   "outputs": [
    {
     "name": "stdout",
     "output_type": "stream",
     "text": [
      "Original Array:  [0 1 2 3 4 5 6 7 8 9]\n",
      "\n",
      "a[2:8:2] =  [2 4 6]\n",
      "\n",
      "a[::] =  [0 1 2 3 4 5 6 7 8 9]\n",
      "\n",
      "a[::-1] =  [9 8 7 6 5 4 3 2 1 0]\n",
      "\n",
      "a[1:1] =  []\n"
     ]
    }
   ],
   "source": [
    "import numpy as np\n",
    "\n",
    "a = np.arange(10)\n",
    "print(\"Original Array: \",a)\n",
    "\n",
    "print(\"\\na[2:8:2] = \",a[2:8:2]) # [start:stop:step]\n",
    "\n",
    "print(\"\\na[::] = \",a[::]) # from start to end\n",
    "\n",
    "print(\"\\na[::-1] = \",a[::-1]) # from end to start\n",
    "\n",
    "print(\"\\na[1:1] = \",a[1:1]) # between same index"
   ]
  }
 ],
 "metadata": {
  "kernelspec": {
   "display_name": "Python 3",
   "language": "python",
   "name": "python3"
  },
  "language_info": {
   "codemirror_mode": {
    "name": "ipython",
    "version": 3
   },
   "file_extension": ".py",
   "mimetype": "text/x-python",
   "name": "python",
   "nbconvert_exporter": "python",
   "pygments_lexer": "ipython3",
   "version": "3.8.5"
  }
 },
 "nbformat": 4,
 "nbformat_minor": 5
}
