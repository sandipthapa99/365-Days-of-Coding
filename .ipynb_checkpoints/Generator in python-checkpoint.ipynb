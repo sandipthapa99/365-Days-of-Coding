{
 "cells": [
  {
   "cell_type": "code",
   "execution_count": 1,
   "id": "important-honor",
   "metadata": {},
   "outputs": [
    {
     "name": "stdout",
     "output_type": "stream",
     "text": [
      "Fibonacci Sequence: 0 1 1 2 3 5\n"
     ]
    }
   ],
   "source": [
    "def func(n):\n",
    "    # First two Fibonacci Numbers\n",
    "    a, b = 0, 1\n",
    "\n",
    "    while a < n:\n",
    "        yield a\n",
    "        a, b = b, a + b\n",
    "\n",
    "# Generator object\n",
    "gen = func(6)\n",
    "\n",
    "# Iterating over the generator object using next\n",
    "print(\"Fibonacci Sequence:\",gen.__next__(),gen.__next__(),gen.__next__(),gen.__next__(),gen.__next__(),gen.__next__()) \n",
    "\n",
    "# Loop Equivalent\n",
    "# for i in func(6):\n",
    "#     print(i)"
   ]
  }
 ],
 "metadata": {
  "kernelspec": {
   "display_name": "Python 3",
   "language": "python",
   "name": "python3"
  },
  "language_info": {
   "codemirror_mode": {
    "name": "ipython",
    "version": 3
   },
   "file_extension": ".py",
   "mimetype": "text/x-python",
   "name": "python",
   "nbconvert_exporter": "python",
   "pygments_lexer": "ipython3",
   "version": "3.8.5"
  }
 },
 "nbformat": 4,
 "nbformat_minor": 5
}
