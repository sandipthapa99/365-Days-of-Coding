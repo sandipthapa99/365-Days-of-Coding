{
 "cells": [
  {
   "cell_type": "code",
   "execution_count": 1,
   "id": "colonial-dublin",
   "metadata": {},
   "outputs": [
    {
     "name": "stdout",
     "output_type": "stream",
     "text": [
      "Before Swapping:\n",
      "a = 2 b = 3\n",
      "After Swapping:\n",
      "a = 3 b = 2\n"
     ]
    }
   ],
   "source": [
    "# Logically\n",
    "def swap(a,b):\n",
    "    print(\"Before Swapping:\")\n",
    "    print(\"a =\",a,\"b =\",b)\n",
    "    a = a+b\n",
    "    b = a-b\n",
    "    a = a-b\n",
    "    print(\"After Swapping:\")\n",
    "    print(\"a =\",a,\"b =\",b)\n",
    "swap(2,3)"
   ]
  },
  {
   "cell_type": "code",
   "execution_count": 2,
   "id": "outdoor-cookbook",
   "metadata": {},
   "outputs": [
    {
     "name": "stdout",
     "output_type": "stream",
     "text": [
      "Before Swapping:\n",
      "a = 2 b = 3\n",
      "After Swapping:\n",
      "a = 3 b = 2\n"
     ]
    }
   ],
   "source": [
    "# Python feature\n",
    "def swap(a,b):\n",
    "    print(\"Before Swapping:\")\n",
    "    print(\"a =\",a,\"b =\",b)\n",
    "    a,b = b,a\n",
    "    print(\"After Swapping:\")\n",
    "    print(\"a =\",a,\"b =\",b)\n",
    "swap(2,3)"
   ]
  },
  {
   "cell_type": "code",
   "execution_count": null,
   "id": "israeli-aside",
   "metadata": {},
   "outputs": [],
   "source": []
  }
 ],
 "metadata": {
  "kernelspec": {
   "display_name": "Python 3",
   "language": "python",
   "name": "python3"
  },
  "language_info": {
   "codemirror_mode": {
    "name": "ipython",
    "version": 3
   },
   "file_extension": ".py",
   "mimetype": "text/x-python",
   "name": "python",
   "nbconvert_exporter": "python",
   "pygments_lexer": "ipython3",
   "version": "3.8.5"
  }
 },
 "nbformat": 4,
 "nbformat_minor": 5
}
