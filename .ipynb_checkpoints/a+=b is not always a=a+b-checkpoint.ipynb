{
 "cells": [
  {
   "cell_type": "code",
   "execution_count": 1,
   "id": "focal-marine",
   "metadata": {},
   "outputs": [
    {
     "name": "stdout",
     "output_type": "stream",
     "text": [
      "List 1: [3, 5, 7, 11, 13, 17, 19]\n",
      "List 2: [3, 5, 7, 11, 13, 17, 19]\n"
     ]
    }
   ],
   "source": [
    "list1 = [3,5,7,11,13]\n",
    "list2 = list1\n",
    "list1 += [17,19]\n",
    "print(\"List 1:\",list1)\n",
    "print(\"List 2:\",list2)"
   ]
  },
  {
   "cell_type": "code",
   "execution_count": 2,
   "id": "studied-favor",
   "metadata": {},
   "outputs": [
    {
     "name": "stdout",
     "output_type": "stream",
     "text": [
      "List 1: [3, 5, 7, 11, 13, 17, 19]\n",
      "List 2: [3, 5, 7, 11, 13]\n"
     ]
    }
   ],
   "source": [
    "list1 = [3,5,7,11,13]\n",
    "list2 = list1\n",
    "list1 = list1 + [17,19]\n",
    "print(\"List 1:\",list1)\n",
    "print(\"List 2:\",list2)"
   ]
  },
  {
   "cell_type": "code",
   "execution_count": null,
   "id": "cosmetic-license",
   "metadata": {},
   "outputs": [],
   "source": []
  }
 ],
 "metadata": {
  "kernelspec": {
   "display_name": "Python 3",
   "language": "python",
   "name": "python3"
  },
  "language_info": {
   "codemirror_mode": {
    "name": "ipython",
    "version": 3
   },
   "file_extension": ".py",
   "mimetype": "text/x-python",
   "name": "python",
   "nbconvert_exporter": "python",
   "pygments_lexer": "ipython3",
   "version": "3.8.5"
  }
 },
 "nbformat": 4,
 "nbformat_minor": 5
}
