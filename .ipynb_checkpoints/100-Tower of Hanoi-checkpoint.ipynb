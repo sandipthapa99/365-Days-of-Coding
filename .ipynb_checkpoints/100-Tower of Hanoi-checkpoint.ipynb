{
 "cells": [
  {
   "cell_type": "code",
   "execution_count": 1,
   "id": "bc038a6f",
   "metadata": {},
   "outputs": [
    {
     "name": "stdout",
     "output_type": "stream",
     "text": [
      "================================\n",
      "S: Source Peg\n",
      "A: Auxiliary Peg\n",
      "D: Destination Peg\n",
      "================================\n",
      "Number of disks: 3\n",
      "================================\n",
      "Move disk 1 from peg S to peg D\n",
      "Move disk 2 from peg S to peg A\n",
      "Move disk 1 from peg D to peg A\n",
      "Move disk 3 from peg S to peg D\n",
      "Move disk 1 from peg A to peg S\n",
      "Move disk 2 from peg A to peg D\n",
      "Move disk 1 from peg S to peg D\n"
     ]
    }
   ],
   "source": [
    "def TowerOfHanoi(n , source, auxiliary, destination):\n",
    "    if n==1:\n",
    "        print (\"Move disk 1 from peg\",source,\"to peg\",destination)\n",
    "        return\n",
    "    else:\n",
    "        TowerOfHanoi(n-1, source, destination, auxiliary)\n",
    "        print (\"Move disk\",n,\"from peg\",source,\"to peg\",destination)\n",
    "        TowerOfHanoi(n-1, auxiliary, source, destination)\n",
    "\n",
    "print(\"================================\")\n",
    "print(\"S: Source Peg\\nA: Auxiliary Peg\\nD: Destination Peg\")\n",
    "print(\"================================\")\n",
    "\n",
    "n = int(input(\"Number of disks: \"))\n",
    "print(\"================================\")\n",
    "TowerOfHanoi(n,'S','A','D')"
   ]
  }
 ],
 "metadata": {
  "kernelspec": {
   "display_name": "Python 3",
   "language": "python",
   "name": "python3"
  },
  "language_info": {
   "codemirror_mode": {
    "name": "ipython",
    "version": 3
   },
   "file_extension": ".py",
   "mimetype": "text/x-python",
   "name": "python",
   "nbconvert_exporter": "python",
   "pygments_lexer": "ipython3",
   "version": "3.8.10"
  }
 },
 "nbformat": 4,
 "nbformat_minor": 5
}
