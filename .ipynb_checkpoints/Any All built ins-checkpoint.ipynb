{
 "cells": [
  {
   "cell_type": "code",
   "execution_count": 1,
   "id": "roman-elements",
   "metadata": {},
   "outputs": [
    {
     "name": "stdout",
     "output_type": "stream",
     "text": [
      "False\n",
      "True\n",
      "True\n"
     ]
    }
   ],
   "source": [
    "print(any([False,False,False]))\n",
    "print(any([False,True,False]))\n",
    "print(any([True,True,True]))"
   ]
  },
  {
   "cell_type": "code",
   "execution_count": 2,
   "id": "abroad-designer",
   "metadata": {},
   "outputs": [
    {
     "name": "stdout",
     "output_type": "stream",
     "text": [
      "False\n",
      "False\n",
      "True\n"
     ]
    }
   ],
   "source": [
    "print(all([False,False,False]))\n",
    "print(all([False,True,False]))\n",
    "print(all([True,True,True]))"
   ]
  },
  {
   "cell_type": "code",
   "execution_count": 3,
   "id": "scheduled-haven",
   "metadata": {},
   "outputs": [
    {
     "name": "stdout",
     "output_type": "stream",
     "text": [
      "[1, 2, 3, 4, 5, 6, 7, 8, 9, 10]\n",
      "\n",
      "Yes, there is at least one number divisible by 3.\n"
     ]
    }
   ],
   "source": [
    "list1 = []\n",
    "list2 = []\n",
    "\n",
    "for i in range(1,11):\n",
    "    list1.append(i)\n",
    "\n",
    "# Index to access the list2 is only between 0 and 9\n",
    "for i in range(0,10):\n",
    "    list2.append(list1[i]%3==0)\n",
    "\n",
    "print(list1)\n",
    "if any(list2):\n",
    "    print(\"\\nYes, there is at least one number divisible by 3.\")\n"
   ]
  },
  {
   "cell_type": "code",
   "execution_count": null,
   "id": "laden-vaccine",
   "metadata": {},
   "outputs": [],
   "source": []
  }
 ],
 "metadata": {
  "kernelspec": {
   "display_name": "Python 3",
   "language": "python",
   "name": "python3"
  },
  "language_info": {
   "codemirror_mode": {
    "name": "ipython",
    "version": 3
   },
   "file_extension": ".py",
   "mimetype": "text/x-python",
   "name": "python",
   "nbconvert_exporter": "python",
   "pygments_lexer": "ipython3",
   "version": "3.8.5"
  }
 },
 "nbformat": 4,
 "nbformat_minor": 5
}
