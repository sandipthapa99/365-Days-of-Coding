{
 "cells": [
  {
   "cell_type": "code",
   "execution_count": 1,
   "id": "aed396d0",
   "metadata": {},
   "outputs": [
    {
     "name": "stdout",
     "output_type": "stream",
     "text": [
      "Car has 4 wheels\n",
      "Bike has 2 wheels\n",
      "Truck has 12 wheels\n",
      "Vehicles drive!\n"
     ]
    }
   ],
   "source": [
    "class Vehicle:\n",
    "    def __init__(self,color,wheels):\n",
    "        self.color = color\n",
    "        self.wheels = wheels\n",
    "        \n",
    "    def drive(self):\n",
    "        print(\"Vehicles drive!\")\n",
    "\n",
    "car = Vehicle(\"White\",4)\n",
    "bike = Vehicle(\"Black\",2)\n",
    "truck = Vehicle(\"Red\",12)\n",
    "print(\"Car has {0} wheels\\nBike has {1} wheels\\nTruck has {2} wheels\".format(car.wheels,bike.wheels,truck.wheels))\n",
    "car.drive()"
   ]
  },
  {
   "cell_type": "markdown",
   "id": "1c0293ee",
   "metadata": {},
   "source": [
    "In Object Oriented Programming paradigm, classes are the focal point. Classes describe what object will be, but is separate from object itself. In other words class can be described as the object's blueprint.\n",
    "We can use same class as a blueprint for creating multiple different objects.\n",
    "\n",
    "The __init__ method is called when an instance of the class is created.\n",
    "All the methods within the class must have self as the first parameter. Self refers to the instance calling the method.\n"
   ]
  }
 ],
 "metadata": {
  "kernelspec": {
   "display_name": "Python 3",
   "language": "python",
   "name": "python3"
  },
  "language_info": {
   "codemirror_mode": {
    "name": "ipython",
    "version": 3
   },
   "file_extension": ".py",
   "mimetype": "text/x-python",
   "name": "python",
   "nbconvert_exporter": "python",
   "pygments_lexer": "ipython3",
   "version": "3.8.10"
  }
 },
 "nbformat": 4,
 "nbformat_minor": 5
}
