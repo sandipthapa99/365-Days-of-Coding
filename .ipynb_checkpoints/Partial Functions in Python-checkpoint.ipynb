{
 "cells": [
  {
   "cell_type": "code",
   "execution_count": 1,
   "id": "lightweight-teaching",
   "metadata": {},
   "outputs": [
    {
     "name": "stdout",
     "output_type": "stream",
     "text": [
      "x: 3 \n",
      "y: 1 \n",
      "z: 4 \n",
      "a: 5\n",
      "Result: 13\n"
     ]
    }
   ],
   "source": [
    "from functools import partial\n",
    "\n",
    "def func(x, y, z, a):\n",
    "    print(\"x:\",x,\"\\ny:\",y,\"\\nz:\",z,\"\\na:\",a)\n",
    "    return x + y + z + a\n",
    "\n",
    "# partial function calling func with x=3, y=1 and z=4\n",
    "partial_func = partial(func, 3, 1, 4)\n",
    "\n",
    "print(\"Result:\",partial_func(5))"
   ]
  }
 ],
 "metadata": {
  "kernelspec": {
   "display_name": "Python 3",
   "language": "python",
   "name": "python3"
  },
  "language_info": {
   "codemirror_mode": {
    "name": "ipython",
    "version": 3
   },
   "file_extension": ".py",
   "mimetype": "text/x-python",
   "name": "python",
   "nbconvert_exporter": "python",
   "pygments_lexer": "ipython3",
   "version": "3.8.5"
  }
 },
 "nbformat": 4,
 "nbformat_minor": 5
}
