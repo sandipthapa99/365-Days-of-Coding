{
 "cells": [
  {
   "cell_type": "code",
   "execution_count": 1,
   "id": "trying-access",
   "metadata": {},
   "outputs": [
    {
     "name": "stdout",
     "output_type": "stream",
     "text": [
      "2\n"
     ]
    }
   ],
   "source": [
    "a,b =2,3\n",
    "min_value = a if a<b else b\n",
    "print(min_value)"
   ]
  },
  {
   "cell_type": "code",
   "execution_count": 2,
   "id": "foster-practitioner",
   "metadata": {},
   "outputs": [
    {
     "name": "stdout",
     "output_type": "stream",
     "text": [
      "2\n"
     ]
    }
   ],
   "source": [
    "# using tuples\n",
    "a,b = 2,3\n",
    "min_value = (b,a)[a<b]\n",
    "print(min_value)"
   ]
  },
  {
   "cell_type": "code",
   "execution_count": 3,
   "id": "chemical-theorem",
   "metadata": {},
   "outputs": [
    {
     "name": "stdout",
     "output_type": "stream",
     "text": [
      "2\n"
     ]
    }
   ],
   "source": [
    "# Usisng Dictionary\n",
    "a,b= 2,3\n",
    "min_value = {True:a,False:b}[a<b]\n",
    "print(min_value)"
   ]
  },
  {
   "cell_type": "code",
   "execution_count": 4,
   "id": "industrial-variation",
   "metadata": {},
   "outputs": [
    {
     "name": "stdout",
     "output_type": "stream",
     "text": [
      "2\n"
     ]
    }
   ],
   "source": [
    "#  Using Lambda\n",
    "a,b= 2,3\n",
    "min_value = (lambda :b, lambda :a)[a<b]()\n",
    "print(min_value)"
   ]
  },
  {
   "cell_type": "code",
   "execution_count": 5,
   "id": "great-vietnam",
   "metadata": {},
   "outputs": [
    {
     "name": "stdout",
     "output_type": "stream",
     "text": [
      "Minimum Value: 2\n"
     ]
    }
   ],
   "source": [
    "a,b =2,3\n",
    "min_value = a if a<b else b\n",
    "print(\"Minimum Value:\",min_value)"
   ]
  },
  {
   "cell_type": "code",
   "execution_count": 6,
   "id": "sexual-american",
   "metadata": {},
   "outputs": [
    {
     "name": "stdout",
     "output_type": "stream",
     "text": [
      "Minimum Value: 2\n"
     ]
    }
   ],
   "source": [
    "# Nested ternary operator\n",
    "a,b = 2,3\n",
    "if a!=b:\n",
    "    if a>b:\n",
    "        print(\"Minimum Value:\",b)\n",
    "    else:\n",
    "        print(\"Minimum Value:\",a)\n",
    "else:\n",
    "    print(\"Both are equal\")"
   ]
  },
  {
   "cell_type": "code",
   "execution_count": 7,
   "id": "charitable-andrews",
   "metadata": {},
   "outputs": [
    {
     "name": "stdout",
     "output_type": "stream",
     "text": [
      "Minimum Value: 2\n"
     ]
    }
   ],
   "source": [
    "a,b = 2,3\n",
    "print(\"Both are equal\" if a==b else \n",
    "      \"Minimum Value: %d\"%(b) if a>b else \n",
    "      \"Minimum Value: %d\"%(a))"
   ]
  },
  {
   "cell_type": "code",
   "execution_count": null,
   "id": "animal-innocent",
   "metadata": {},
   "outputs": [],
   "source": []
  }
 ],
 "metadata": {
  "kernelspec": {
   "display_name": "Python 3",
   "language": "python",
   "name": "python3"
  },
  "language_info": {
   "codemirror_mode": {
    "name": "ipython",
    "version": 3
   },
   "file_extension": ".py",
   "mimetype": "text/x-python",
   "name": "python",
   "nbconvert_exporter": "python",
   "pygments_lexer": "ipython3",
   "version": "3.8.5"
  }
 },
 "nbformat": 4,
 "nbformat_minor": 5
}
