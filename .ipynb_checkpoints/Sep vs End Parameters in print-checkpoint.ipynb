{
 "cells": [
  {
   "cell_type": "markdown",
   "id": "functioning-domain",
   "metadata": {},
   "source": [
    "#### End:"
   ]
  },
  {
   "cell_type": "code",
   "execution_count": 1,
   "id": "everyday-joint",
   "metadata": {},
   "outputs": [
    {
     "name": "stdout",
     "output_type": "stream",
     "text": [
      "Hello,Connections!"
     ]
    }
   ],
   "source": [
    "# ends output the result with mentioned symbol'\n",
    "\n",
    "print(\"Hello\", end = ',')\n",
    "print(\"Connections\", end = \"!\")\n"
   ]
  },
  {
   "cell_type": "markdown",
   "id": "quiet-newark",
   "metadata": {},
   "source": [
    "#### Sep:"
   ]
  },
  {
   "cell_type": "code",
   "execution_count": 2,
   "id": "running-tanzania",
   "metadata": {},
   "outputs": [
    {
     "name": "stdout",
     "output_type": "stream",
     "text": [
      "Hello,Connections!"
     ]
    }
   ],
   "source": [
    "# adds symbol in between items\n",
    "\n",
    "print('Hello','Connections', sep=',', end='!')"
   ]
  },
  {
   "cell_type": "code",
   "execution_count": null,
   "id": "complicated-clearing",
   "metadata": {},
   "outputs": [],
   "source": []
  }
 ],
 "metadata": {
  "kernelspec": {
   "display_name": "Python 3",
   "language": "python",
   "name": "python3"
  },
  "language_info": {
   "codemirror_mode": {
    "name": "ipython",
    "version": 3
   },
   "file_extension": ".py",
   "mimetype": "text/x-python",
   "name": "python",
   "nbconvert_exporter": "python",
   "pygments_lexer": "ipython3",
   "version": "3.8.5"
  }
 },
 "nbformat": 4,
 "nbformat_minor": 5
}
