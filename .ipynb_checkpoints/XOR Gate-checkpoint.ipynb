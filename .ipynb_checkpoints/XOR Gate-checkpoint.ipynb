{
 "cells": [
  {
   "cell_type": "code",
   "execution_count": 1,
   "id": "joined-capitol",
   "metadata": {},
   "outputs": [
    {
     "name": "stdout",
     "output_type": "stream",
     "text": [
      "+-----------------------+-----------------+\n",
      "|   XOR Truth Table     |     Result      |\n",
      "|  A = False, B = False | A XOR B = False | \n",
      "|  A = False, B = True  | A XOR B = True  | \n",
      "|  A = True, B = False  | A XOR B = True  | \n",
      "|  A = True, B = True   | A XOR B = False | \n"
     ]
    }
   ],
   "source": [
    "def XOR_GATE(a,b):\n",
    "    if a == b:\n",
    "        return False\n",
    "    else:\n",
    "        return True\n",
    "    \n",
    "def display():\n",
    "    print(\"+-----------------------+-----------------+\")\n",
    "    print(\"|   XOR Truth Table     |     Result      |\")\n",
    "    print(\"|  A = False, B = False | A XOR B =\",XOR_GATE('false','false'),\"| \")\n",
    "    print(\"|  A = False, B = True  | A XOR B =\",XOR_GATE('false','true'),\" | \")\n",
    "    print(\"|  A = True, B = False  | A XOR B =\",XOR_GATE('true','false'),\" | \")\n",
    "    print(\"|  A = True, B = True   | A XOR B =\",XOR_GATE('true','true'),\"| \") \n",
    "    \n",
    "display()"
   ]
  }
 ],
 "metadata": {
  "kernelspec": {
   "display_name": "Python 3",
   "language": "python",
   "name": "python3"
  },
  "language_info": {
   "codemirror_mode": {
    "name": "ipython",
    "version": 3
   },
   "file_extension": ".py",
   "mimetype": "text/x-python",
   "name": "python",
   "nbconvert_exporter": "python",
   "pygments_lexer": "ipython3",
   "version": "3.8.5"
  }
 },
 "nbformat": 4,
 "nbformat_minor": 5
}
