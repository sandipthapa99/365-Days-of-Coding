{
 "cells": [
  {
   "cell_type": "code",
   "execution_count": 1,
   "id": "wanted-robertson",
   "metadata": {},
   "outputs": [
    {
     "name": "stdout",
     "output_type": "stream",
     "text": [
      "Weight:52\n",
      "height:1.5\n",
      "\n",
      "BMI: Normal\n"
     ]
    }
   ],
   "source": [
    "weight = int(input(\"Weight:\")) # in kgs\n",
    "height = float(input(\"height:\")) # in meters\n",
    "print()\n",
    "\n",
    "def func(w,h):\n",
    "    bmi = w/(h**2)\n",
    "    if bmi < 18.5:\n",
    "        print(\"BMI: Underweight\")\n",
    "    elif bmi >= 18.5 and bmi < 25:\n",
    "        print(\"BMI: Normal\")\n",
    "    elif bmi >= 25 and bmi < 30:\n",
    "        print(\"BMI: Overweight\")\n",
    "    else:\n",
    "        print(\"BMI: Obesity\")\n",
    "        \n",
    "func(weight,height)"
   ]
  }
 ],
 "metadata": {
  "kernelspec": {
   "display_name": "Python 3",
   "language": "python",
   "name": "python3"
  },
  "language_info": {
   "codemirror_mode": {
    "name": "ipython",
    "version": 3
   },
   "file_extension": ".py",
   "mimetype": "text/x-python",
   "name": "python",
   "nbconvert_exporter": "python",
   "pygments_lexer": "ipython3",
   "version": "3.8.5"
  }
 },
 "nbformat": 4,
 "nbformat_minor": 5
}
