{
 "cells": [
  {
   "cell_type": "code",
   "execution_count": 1,
   "id": "spare-equilibrium",
   "metadata": {},
   "outputs": [
    {
     "name": "stdout",
     "output_type": "stream",
     "text": [
      "a -> alpha\n",
      "b -> beta\n"
     ]
    }
   ],
   "source": [
    "def func(**kwargs):\n",
    "    for key, value in kwargs.items():\n",
    "        print (\"%s -> %s\" %(key, value))\n",
    "\n",
    "# Driver code\n",
    "func(a ='alpha', b ='beta')\n"
   ]
  },
  {
   "cell_type": "code",
   "execution_count": 2,
   "id": "pleasant-manor",
   "metadata": {},
   "outputs": [
    {
     "name": "stdout",
     "output_type": "stream",
     "text": [
      "a -> alpha\n",
      "b -> beta\n"
     ]
    }
   ],
   "source": [
    "def func(arg, **kwargs):\n",
    "    for key, value in kwargs.items():\n",
    "        print (\"%s -> %s\" %(key, value))\n",
    "\n",
    "# Driver code\n",
    "func(\"Hi\", a ='alpha', b ='beta')\n"
   ]
  },
  {
   "cell_type": "code",
   "execution_count": null,
   "id": "palestinian-thursday",
   "metadata": {},
   "outputs": [],
   "source": []
  }
 ],
 "metadata": {
  "kernelspec": {
   "display_name": "Python 3",
   "language": "python",
   "name": "python3"
  },
  "language_info": {
   "codemirror_mode": {
    "name": "ipython",
    "version": 3
   },
   "file_extension": ".py",
   "mimetype": "text/x-python",
   "name": "python",
   "nbconvert_exporter": "python",
   "pygments_lexer": "ipython3",
   "version": "3.8.5"
  }
 },
 "nbformat": 4,
 "nbformat_minor": 5
}
