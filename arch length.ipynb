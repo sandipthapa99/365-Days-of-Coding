{
 "cells": [
  {
   "cell_type": "code",
   "execution_count": 5,
   "id": "radical-ticket",
   "metadata": {},
   "outputs": [
    {
     "name": "stdout",
     "output_type": "stream",
     "text": [
      "Diameter of circle: 45\n",
      "Angle: 67\n",
      "Arc Length:  26.32142857142857 units\n"
     ]
    }
   ],
   "source": [
    "def func():\n",
    "    pi=22/7\n",
    "    diameter = float(input('Diameter of circle: '))\n",
    "    angle = float(input('Angle: '))\n",
    "    if angle >= 360:\n",
    "        print(\"Angle cannot be greater than 360\")\n",
    "        return\n",
    "    arc_length = (pi*diameter) * (angle/360)\n",
    "    print(\"Arc Length: \", arc_length, \"units\")\n",
    "\n",
    "func()"
   ]
  }
 ],
 "metadata": {
  "kernelspec": {
   "display_name": "Python 3",
   "language": "python",
   "name": "python3"
  },
  "language_info": {
   "codemirror_mode": {
    "name": "ipython",
    "version": 3
   },
   "file_extension": ".py",
   "mimetype": "text/x-python",
   "name": "python",
   "nbconvert_exporter": "python",
   "pygments_lexer": "ipython3",
   "version": "3.8.5"
  }
 },
 "nbformat": 4,
 "nbformat_minor": 5
}
