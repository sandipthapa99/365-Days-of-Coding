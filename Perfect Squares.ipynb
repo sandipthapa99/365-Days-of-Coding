{
 "cells": [
  {
   "cell_type": "code",
   "execution_count": 1,
   "id": "optimum-valuation",
   "metadata": {},
   "outputs": [
    {
     "name": "stdout",
     "output_type": "stream",
     "text": [
      "Enter lower bound: 1\n",
      "Enter upper bound: 20\n",
      "Perfect squares between 1 & 20 : [1, 4, 9, 16]\n"
     ]
    }
   ],
   "source": [
    "first = int(input(\"Enter lower bound: \"))\n",
    "second = int(input(\"Enter upper bound: \"))\n",
    "def func(x, y):\n",
    "    list=[]\n",
    "    for i in range (x,y+1):\n",
    "        j = 1;\n",
    "        while j*j <= i:\n",
    "            if j*j == i:\n",
    "                 list.append(i)  \n",
    "            j = j+1\n",
    "        i = i+1\n",
    "    return list\n",
    "print(\"Perfect squares between\",first, \"&\", second, \":\",func(first, second))"
   ]
  }
 ],
 "metadata": {
  "kernelspec": {
   "display_name": "Python 3",
   "language": "python",
   "name": "python3"
  },
  "language_info": {
   "codemirror_mode": {
    "name": "ipython",
    "version": 3
   },
   "file_extension": ".py",
   "mimetype": "text/x-python",
   "name": "python",
   "nbconvert_exporter": "python",
   "pygments_lexer": "ipython3",
   "version": "3.8.5"
  }
 },
 "nbformat": 4,
 "nbformat_minor": 5
}
