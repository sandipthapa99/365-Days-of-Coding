{
 "cells": [
  {
   "cell_type": "code",
   "execution_count": 7,
   "id": "purple-storm",
   "metadata": {},
   "outputs": [
    {
     "name": "stdout",
     "output_type": "stream",
     "text": [
      "Original: {1: 'One', 2: 'Two', 3: 'Three'}\n",
      "Reversed: {'One': 1, 'Two': 2, 'Three': 3}\n"
     ]
    }
   ],
   "source": [
    "dict = {1: 'One', 2: 'Two', 3:'Three'}\n",
    "\n",
    "new_dict = {value: key for key, value in dict.items()}\n",
    "\n",
    "print(\"Original:\",dict)\n",
    "print(\"Reversed:\",new_dict)"
   ]
  }
 ],
 "metadata": {
  "kernelspec": {
   "display_name": "Python 3",
   "language": "python",
   "name": "python3"
  },
  "language_info": {
   "codemirror_mode": {
    "name": "ipython",
    "version": 3
   },
   "file_extension": ".py",
   "mimetype": "text/x-python",
   "name": "python",
   "nbconvert_exporter": "python",
   "pygments_lexer": "ipython3",
   "version": "3.8.5"
  }
 },
 "nbformat": 4,
 "nbformat_minor": 5
}
