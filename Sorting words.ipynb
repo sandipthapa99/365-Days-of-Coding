{
 "cells": [
  {
   "cell_type": "code",
   "execution_count": 1,
   "id": "elect-graham",
   "metadata": {},
   "outputs": [
    {
     "name": "stdout",
     "output_type": "stream",
     "text": [
      "Your sentence: This program sorts words in a sentence\n",
      "Sorted words:\n",
      "a\n",
      "in\n",
      "program\n",
      "sentence\n",
      "sorts\n",
      "this\n",
      "words\n"
     ]
    }
   ],
   "source": [
    "sentence = input(\"Your sentence: \")\n",
    "\n",
    "# splitting into separate words\n",
    "words = [word.lower() for word in sentence.split()]\n",
    "# print(words)\n",
    "\n",
    "# sorting the list\n",
    "words.sort()\n",
    "\n",
    "print(\"Sorted words:\")\n",
    "for word in words:\n",
    "    print(word)"
   ]
  }
 ],
 "metadata": {
  "kernelspec": {
   "display_name": "Python 3",
   "language": "python",
   "name": "python3"
  },
  "language_info": {
   "codemirror_mode": {
    "name": "ipython",
    "version": 3
   },
   "file_extension": ".py",
   "mimetype": "text/x-python",
   "name": "python",
   "nbconvert_exporter": "python",
   "pygments_lexer": "ipython3",
   "version": "3.8.5"
  }
 },
 "nbformat": 4,
 "nbformat_minor": 5
}
