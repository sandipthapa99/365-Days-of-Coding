{
 "cells": [
  {
   "cell_type": "code",
   "execution_count": 12,
   "id": "arabic-thinking",
   "metadata": {},
   "outputs": [
    {
     "name": "stdout",
     "output_type": "stream",
     "text": [
      "Transpose:\n",
      "[1, 3, 5]\n",
      "[2, 4, 6]\n"
     ]
    }
   ],
   "source": [
    "A = [[1,2],\n",
    "    [3 ,4],\n",
    "    [5 ,6]]\n",
    "\n",
    "transpose = [[0,0,0],\n",
    "             [0,0,0]]\n",
    "for i in range(len(A)):          #along rows\n",
    "    for j in range(len(A[0])):    #along columns\n",
    "        transpose[j][i] = A[i][j]\n",
    "print(\"Transpose:\")\n",
    "for r in transpose:\n",
    "    print(r)"
   ]
  }
 ],
 "metadata": {
  "kernelspec": {
   "display_name": "Python 3",
   "language": "python",
   "name": "python3"
  },
  "language_info": {
   "codemirror_mode": {
    "name": "ipython",
    "version": 3
   },
   "file_extension": ".py",
   "mimetype": "text/x-python",
   "name": "python",
   "nbconvert_exporter": "python",
   "pygments_lexer": "ipython3",
   "version": "3.8.5"
  }
 },
 "nbformat": 4,
 "nbformat_minor": 5
}
