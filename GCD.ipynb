{
 "cells": [
  {
   "cell_type": "code",
   "execution_count": 11,
   "id": "sunrise-reservoir",
   "metadata": {},
   "outputs": [
    {
     "name": "stdout",
     "output_type": "stream",
     "text": [
      "Enter first number:24\n",
      "Enter second number:428\n",
      "Greatest Common Divisor: 4\n"
     ]
    }
   ],
   "source": [
    "x = int(input(\"Enter first number:\"))\n",
    "y = int(input(\"Enter second number:\"))\n",
    "def gcd(x,y):\n",
    "    cf = []\n",
    "    for i in range(1, max(x,y)):\n",
    "        if x%i==0 and y%i==0:\n",
    "            cf.append(i)            \n",
    "    return cf[-1]\n",
    "\n",
    "print(\"Greatest Common Divisor:\",gcd(x,y))"
   ]
  }
 ],
 "metadata": {
  "kernelspec": {
   "display_name": "Python 3",
   "language": "python",
   "name": "python3"
  },
  "language_info": {
   "codemirror_mode": {
    "name": "ipython",
    "version": 3
   },
   "file_extension": ".py",
   "mimetype": "text/x-python",
   "name": "python",
   "nbconvert_exporter": "python",
   "pygments_lexer": "ipython3",
   "version": "3.8.5"
  }
 },
 "nbformat": 4,
 "nbformat_minor": 5
}
