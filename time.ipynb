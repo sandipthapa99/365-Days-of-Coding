{
 "cells": [
  {
   "cell_type": "code",
   "execution_count": 3,
   "id": "identified-toner",
   "metadata": {},
   "outputs": [
    {
     "name": "stdout",
     "output_type": "stream",
     "text": [
      "Sorted array: [11, 23, 45, 64, 78]\n",
      "=================================\n",
      "Total time Elapsed: 0.0009968280792236328 Seconds\n",
      "=================================\n"
     ]
    }
   ],
   "source": [
    "import time\n",
    "\n",
    "start = time.time()\n",
    "\n",
    "def bubbleSort(arr):\n",
    "    n = len(arr)\n",
    "    for i in range(n):\n",
    "        # Last element is already in place\n",
    "        # Traverse through 0th to n-i-1th element\n",
    "        for j in range(0,n-i-1):\n",
    "            # Swap if current element is greater than the adjacent element\n",
    "            if arr[j] > arr[j+1]:\n",
    "                arr[j], arr[j+1] = arr[j+1], arr[j]\n",
    "arr = [64,45,23,78,11]\n",
    "bubbleSort(arr)\n",
    "print(\"Sorted array:\",arr)\n",
    "print(\"=================================\")\n",
    "\n",
    "end = time.time()\n",
    "print(\"Total time Elapsed:\",end - start,\"Seconds\")\n",
    "print(\"=================================\")"
   ]
  }
 ],
 "metadata": {
  "kernelspec": {
   "display_name": "Python 3",
   "language": "python",
   "name": "python3"
  },
  "language_info": {
   "codemirror_mode": {
    "name": "ipython",
    "version": 3
   },
   "file_extension": ".py",
   "mimetype": "text/x-python",
   "name": "python",
   "nbconvert_exporter": "python",
   "pygments_lexer": "ipython3",
   "version": "3.8.5"
  }
 },
 "nbformat": 4,
 "nbformat_minor": 5
}
