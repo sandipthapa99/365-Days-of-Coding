{
 "cells": [
  {
   "cell_type": "code",
   "execution_count": 1,
   "id": "human-celebration",
   "metadata": {},
   "outputs": [
    {
     "name": "stdout",
     "output_type": "stream",
     "text": [
      "Word: pneumonoultramicroscopicsilicovolcanoconiosis\n",
      "p : 2 times\n",
      "n : 4 times\n",
      "e : 1 times\n",
      "u : 2 times\n",
      "m : 2 times\n",
      "o : 9 times\n",
      "l : 3 times\n",
      "t : 1 times\n",
      "r : 2 times\n",
      "a : 2 times\n",
      "i : 6 times\n",
      "c : 6 times\n",
      "s : 4 times\n",
      "v : 1 times\n"
     ]
    }
   ],
   "source": [
    "word = input(\"Word: \")\n",
    "def fcount(word):\n",
    "    dict = {}\n",
    "    for letter in word:\n",
    "        if letter in dict:\n",
    "            dict[letter] += 1\n",
    "        else:\n",
    "            dict[letter] =1\n",
    "    for key,value in dict.items():\n",
    "        print(\"%s : %d times\"%(key,value))\n",
    "\n",
    "fcount(word)"
   ]
  }
 ],
 "metadata": {
  "kernelspec": {
   "display_name": "Python 3",
   "language": "python",
   "name": "python3"
  },
  "language_info": {
   "codemirror_mode": {
    "name": "ipython",
    "version": 3
   },
   "file_extension": ".py",
   "mimetype": "text/x-python",
   "name": "python",
   "nbconvert_exporter": "python",
   "pygments_lexer": "ipython3",
   "version": "3.8.5"
  }
 },
 "nbformat": 4,
 "nbformat_minor": 5
}
