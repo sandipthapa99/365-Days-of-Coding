{
 "cells": [
  {
   "cell_type": "code",
   "execution_count": 1,
   "id": "velvet-acting",
   "metadata": {},
   "outputs": [
    {
     "name": "stdout",
     "output_type": "stream",
     "text": [
      "3 not found in the list.\n"
     ]
    }
   ],
   "source": [
    "def binary_search(num_list, input_num):\n",
    "    start = 0\n",
    "    end = len(num_list) - 1\n",
    "    mid = (start + end) // 2\n",
    "    found = False\n",
    "    position = -1\n",
    "\n",
    "    while start <= end:\n",
    "        if num_list[mid] == input_num:\n",
    "            found = True\n",
    "            position = mid\n",
    "            break\n",
    "        \n",
    "        if input_num > num_list[mid]:\n",
    "            start = mid + 1\n",
    "            mid = (start + end) // 2\n",
    "        else:\n",
    "            end = mid - 1\n",
    "            mid = (start + end) // 2\n",
    "    return (found, position)\n",
    "\n",
    "#Array must be sorted  \n",
    "num_list = [0, 2, 4, 8, 16, 32, 64, 128] \n",
    "to_find = 32\n",
    "\n",
    "result = binary_search(num_list, to_find)\n",
    "if result[0]:\n",
    "    print('%d found at position %d.' %(to_find, result[1]+1))\n",
    "else:\n",
    "    print('%d not found in the list.' %to_find)"
   ]
  }
 ],
 "metadata": {
  "kernelspec": {
   "display_name": "Python 3",
   "language": "python",
   "name": "python3"
  },
  "language_info": {
   "codemirror_mode": {
    "name": "ipython",
    "version": 3
   },
   "file_extension": ".py",
   "mimetype": "text/x-python",
   "name": "python",
   "nbconvert_exporter": "python",
   "pygments_lexer": "ipython3",
   "version": "3.8.5"
  }
 },
 "nbformat": 4,
 "nbformat_minor": 5
}
