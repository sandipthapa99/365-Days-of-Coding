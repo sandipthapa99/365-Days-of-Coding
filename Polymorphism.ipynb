{
 "cells": [
  {
   "cell_type": "code",
   "execution_count": 1,
   "id": "enabling-champion",
   "metadata": {},
   "outputs": [
    {
     "name": "stdout",
     "output_type": "stream",
     "text": [
      "There are many types of bikes.\n",
      "All bikes can ride.\n",
      "There are many types of bikes.\n",
      "Enduros can go tough terrains.\n",
      "There are many types of bikes.\n",
      "Sports cannot go tough terrains.\n"
     ]
    }
   ],
   "source": [
    "class Bikes:\n",
    "    def intro(self):\n",
    "        print(\"There are many types of bikes.\")\n",
    "    def ride(self):\n",
    "        print(\"All bikes can ride.\")\n",
    "\n",
    "class Enduro(Bikes):\n",
    "    def ride(self):\n",
    "        print(\"Enduros can go tough terrains.\")\n",
    "\n",
    "class Sports(Bikes):\n",
    "    def ride(self):\n",
    "        print(\"Sports cannot go tough terrains.\")\n",
    "\n",
    "bikeObj = Bikes()\n",
    "enduroObj = Enduro()\n",
    "sportsObj = Sports()\n",
    "\n",
    "bikeObj.intro()\n",
    "bikeObj.ride()\n",
    "\n",
    "enduroObj.intro()\n",
    "enduroObj.ride()\n",
    "\n",
    "sportsObj.intro()\n",
    "sportsObj.ride()"
   ]
  }
 ],
 "metadata": {
  "kernelspec": {
   "display_name": "Python 3",
   "language": "python",
   "name": "python3"
  },
  "language_info": {
   "codemirror_mode": {
    "name": "ipython",
    "version": 3
   },
   "file_extension": ".py",
   "mimetype": "text/x-python",
   "name": "python",
   "nbconvert_exporter": "python",
   "pygments_lexer": "ipython3",
   "version": "3.8.5"
  }
 },
 "nbformat": 4,
 "nbformat_minor": 5
}
