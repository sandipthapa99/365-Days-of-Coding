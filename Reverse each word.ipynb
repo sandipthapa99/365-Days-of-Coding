{
 "cells": [
  {
   "cell_type": "code",
   "execution_count": 3,
   "id": "imported-prescription",
   "metadata": {},
   "outputs": [
    {
     "name": "stdout",
     "output_type": "stream",
     "text": [
      "Original Sentence: It's a lovely day to Die!\n",
      "Reversed Sentence: s'tI a ylevol yad ot !eiD\n"
     ]
    }
   ],
   "source": [
    "def func(Sentence):\n",
    "    words = Sentence.split(\" \")\n",
    "\n",
    "    # reversing each words\n",
    "    rev_word_list = [word[::-1] for word in words]\n",
    "    \n",
    "    # Joining reversed words\n",
    "    res = \" \".join(rev_word_list)\n",
    "    return res\n",
    "\n",
    "sentence = input(\"Original Sentence: \")\n",
    "print(\"Reversed Sentence:\",func(sentence))"
   ]
  }
 ],
 "metadata": {
  "kernelspec": {
   "display_name": "Python 3",
   "language": "python",
   "name": "python3"
  },
  "language_info": {
   "codemirror_mode": {
    "name": "ipython",
    "version": 3
   },
   "file_extension": ".py",
   "mimetype": "text/x-python",
   "name": "python",
   "nbconvert_exporter": "python",
   "pygments_lexer": "ipython3",
   "version": "3.8.5"
  }
 },
 "nbformat": 4,
 "nbformat_minor": 5
}
