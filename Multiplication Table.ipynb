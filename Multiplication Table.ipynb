{
 "cells": [
  {
   "cell_type": "code",
   "execution_count": 10,
   "id": "center-michael",
   "metadata": {},
   "outputs": [
    {
     "name": "stdout",
     "output_type": "stream",
     "text": [
      "Multiplication table of: 99\n",
      "99 * 1 = 99\n",
      "99 * 2 = 198\n",
      "99 * 3 = 297\n",
      "99 * 4 = 396\n",
      "99 * 5 = 495\n",
      "99 * 6 = 594\n",
      "99 * 7 = 693\n",
      "99 * 8 = 792\n",
      "99 * 9 = 891\n",
      "99 * 10 = 990\n"
     ]
    }
   ],
   "source": [
    "number = int(input(\"Multiplication table of: \"))\n",
    "\n",
    "for i in range(1, 11):\n",
    "    print(number, '*', i, '=', number*i)"
   ]
  }
 ],
 "metadata": {
  "kernelspec": {
   "display_name": "Python 3",
   "language": "python",
   "name": "python3"
  },
  "language_info": {
   "codemirror_mode": {
    "name": "ipython",
    "version": 3
   },
   "file_extension": ".py",
   "mimetype": "text/x-python",
   "name": "python",
   "nbconvert_exporter": "python",
   "pygments_lexer": "ipython3",
   "version": "3.8.5"
  }
 },
 "nbformat": 4,
 "nbformat_minor": 5
}
