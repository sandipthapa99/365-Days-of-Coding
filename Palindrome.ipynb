{
 "cells": [
  {
   "cell_type": "code",
   "execution_count": 14,
   "id": "meaning-jaguar",
   "metadata": {},
   "outputs": [
    {
     "name": "stdout",
     "output_type": "stream",
     "text": [
      "Enter your word: MADAM\n",
      "Yes, your word is a Palindrome\n"
     ]
    }
   ],
   "source": [
    "def isPalindrome(s):\n",
    "    return word == word[::-1]\n",
    "\n",
    "word = input(\"Enter your word: \")\n",
    "check = isPalindrome(word)\n",
    " \n",
    "if check:\n",
    "    print(\"Yes, your word is a Palindrome\")\n",
    "else:\n",
    "    print(\"No, your word is not a Palindrome\")"
   ]
  },
  {
   "cell_type": "code",
   "execution_count": null,
   "id": "civil-fourth",
   "metadata": {},
   "outputs": [],
   "source": []
  }
 ],
 "metadata": {
  "kernelspec": {
   "display_name": "Python 3",
   "language": "python",
   "name": "python3"
  },
  "language_info": {
   "codemirror_mode": {
    "name": "ipython",
    "version": 3
   },
   "file_extension": ".py",
   "mimetype": "text/x-python",
   "name": "python",
   "nbconvert_exporter": "python",
   "pygments_lexer": "ipython3",
   "version": "3.8.5"
  }
 },
 "nbformat": 4,
 "nbformat_minor": 5
}
