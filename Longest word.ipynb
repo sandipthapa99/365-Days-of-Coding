{
 "cells": [
  {
   "cell_type": "code",
   "execution_count": 2,
   "id": "amber-diana",
   "metadata": {},
   "outputs": [
    {
     "name": "stdout",
     "output_type": "stream",
     "text": [
      "Input your sentence: Python is fun.\n",
      "The longest word is: Python\n"
     ]
    }
   ],
   "source": [
    "text=input(\"Input your sentence: \")\n",
    "dict2={}\n",
    "length=[]\n",
    "new_text=text.split()\n",
    "for words in new_text:\n",
    "    dict2[len(words)]=words\n",
    "    size= len(words)\n",
    "    length.append(size)\n",
    "final= dict2[max(length)]\n",
    "print(\"The longest word is:\", final)"
   ]
  },
  {
   "cell_type": "code",
   "execution_count": 2,
   "id": "moved-worst",
   "metadata": {},
   "outputs": [
    {
     "data": {
      "text/plain": [
       "7"
      ]
     },
     "execution_count": 2,
     "metadata": {},
     "output_type": "execute_result"
    }
   ],
   "source": [
    "text=\"hello\"\n",
    "len(text)\n",
    "list=[1,2,5,7]\n",
    "max(list)"
   ]
  },
  {
   "cell_type": "code",
   "execution_count": 3,
   "id": "incident-motion",
   "metadata": {},
   "outputs": [
    {
     "data": {
      "text/plain": [
       "{2: 'two'}"
      ]
     },
     "execution_count": 3,
     "metadata": {},
     "output_type": "execute_result"
    }
   ],
   "source": [
    "dict={}\n",
    "dict[2]=\"two\"\n",
    "dict"
   ]
  }
 ],
 "metadata": {
  "kernelspec": {
   "display_name": "Python 3",
   "language": "python",
   "name": "python3"
  },
  "language_info": {
   "codemirror_mode": {
    "name": "ipython",
    "version": 3
   },
   "file_extension": ".py",
   "mimetype": "text/x-python",
   "name": "python",
   "nbconvert_exporter": "python",
   "pygments_lexer": "ipython3",
   "version": "3.8.5"
  }
 },
 "nbformat": 4,
 "nbformat_minor": 5
}
