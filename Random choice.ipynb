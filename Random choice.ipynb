{
 "cells": [
  {
   "cell_type": "code",
   "execution_count": 9,
   "id": "controlling-paris",
   "metadata": {},
   "outputs": [
    {
     "name": "stdout",
     "output_type": "stream",
     "text": [
      "Lucky Winner: Python\n"
     ]
    }
   ],
   "source": [
    "import random\n",
    "\n",
    "items = [\"Python\", \"Java\", \"C\", \"C++\", \"C#\", \"Javascript\", \"PHP\"]\n",
    "choice =random.choice(items)\n",
    "\n",
    "print(\"Lucky Winner:\",choice)"
   ]
  }
 ],
 "metadata": {
  "kernelspec": {
   "display_name": "Python 3",
   "language": "python",
   "name": "python3"
  },
  "language_info": {
   "codemirror_mode": {
    "name": "ipython",
    "version": 3
   },
   "file_extension": ".py",
   "mimetype": "text/x-python",
   "name": "python",
   "nbconvert_exporter": "python",
   "pygments_lexer": "ipython3",
   "version": "3.8.5"
  }
 },
 "nbformat": 4,
 "nbformat_minor": 5
}
