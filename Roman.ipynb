{
 "cells": [
  {
   "cell_type": "code",
   "execution_count": 1,
   "id": "loaded-theory",
   "metadata": {},
   "outputs": [
    {
     "name": "stdout",
     "output_type": "stream",
     "text": [
      "Your number: 99\n",
      "Roman numeral: XCIX\n"
     ]
    }
   ],
   "source": [
    "class MyClass:\n",
    "    def Roman(self, num):\n",
    "        val = [1000, 900, 500, 400,100, 90, 50, 40,10, 9, 5, 4,1]\n",
    "        syb = [\"M\", \"CM\", \"D\", \"CD\",\"C\", \"XC\", \"L\", \"XL\",\"X\", \"IX\", \"V\", \"IV\",\"I\"]\n",
    "        roman = ''\n",
    "        i = 0\n",
    "        while  num > 0:\n",
    "            for j in range(num // val[i]):\n",
    "                roman += syb[i]\n",
    "                num -= val[i]\n",
    "            i += 1\n",
    "        return roman\n",
    "number = int(input(\"Your number: \"))\n",
    "print(\"Roman numeral:\",MyClass().Roman(number))\n"
   ]
  }
 ],
 "metadata": {
  "kernelspec": {
   "display_name": "Python 3",
   "language": "python",
   "name": "python3"
  },
  "language_info": {
   "codemirror_mode": {
    "name": "ipython",
    "version": 3
   },
   "file_extension": ".py",
   "mimetype": "text/x-python",
   "name": "python",
   "nbconvert_exporter": "python",
   "pygments_lexer": "ipython3",
   "version": "3.8.5"
  }
 },
 "nbformat": 4,
 "nbformat_minor": 5
}
