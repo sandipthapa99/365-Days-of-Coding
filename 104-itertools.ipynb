{
 "cells": [
  {
   "cell_type": "code",
   "execution_count": 17,
   "id": "df7fd9d7",
   "metadata": {},
   "outputs": [
    {
     "name": "stdout",
     "output_type": "stream",
     "text": [
      "3\n",
      "4\n",
      "5\n",
      "[0, 1, 2, 3, 4, 5, 6, 7]\n",
      "[0, 1, 3, 6, 10, 15, 21, 28]\n",
      "[0, 1, 3, 6]\n"
     ]
    }
   ],
   "source": [
    "from itertools import count, accumulate, takewhile\n",
    "for i in count(3):\n",
    "    print(i)\n",
    "    if i>=5:\n",
    "        break\n",
    "\n",
    "print(list(i for i in range(8)))\n",
    "nums = list(accumulate(range(8)))\n",
    "print(nums)\n",
    "print(list(takewhile(lambda x:x<=6,nums)))"
   ]
  },
  {
   "cell_type": "markdown",
   "id": "d50e212b",
   "metadata": {},
   "source": [
    "The module itertools is a standard library that contains several functions that are useful in functional programming.\n",
    "\n",
    "The  function ## count counts up infinitely from a value.\n",
    "\n",
    "The function cycle infinitely iterates through an iterable (for instance a list or string)\n",
    "\n",
    "The function repeat repeats an object, either infinitely or a specific number of times\n",
    "\n",
    "The function accumulate takes two arguments, iterable target and the function which would be followed at each iteration of vallue in target.\n",
    "If not function is passed, addition takes place by default. If the input iterable is empty, the output iterable will also be empty.\n"
   ]
  },
  {
   "cell_type": "code",
   "execution_count": null,
   "id": "20e0835c",
   "metadata": {},
   "outputs": [],
   "source": []
  }
 ],
 "metadata": {
  "kernelspec": {
   "display_name": "Python 3",
   "language": "python",
   "name": "python3"
  },
  "language_info": {
   "codemirror_mode": {
    "name": "ipython",
    "version": 3
   },
   "file_extension": ".py",
   "mimetype": "text/x-python",
   "name": "python",
   "nbconvert_exporter": "python",
   "pygments_lexer": "ipython3",
   "version": "3.8.10"
  }
 },
 "nbformat": 4,
 "nbformat_minor": 5
}
