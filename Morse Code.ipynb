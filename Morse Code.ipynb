{
 "cells": [
  {
   "cell_type": "code",
   "execution_count": 10,
   "id": "surrounded-poison",
   "metadata": {},
   "outputs": [
    {
     "name": "stdout",
     "output_type": "stream",
     "text": [
      "Enter your text: dasdf@\n",
      "Cannot find morse code for --> @\n",
      "Morse Code: \n"
     ]
    }
   ],
   "source": [
    "def morseCode():\n",
    "    morse_code_dict = {'a':'.-','b':'-...','c':'-.-.','d':'-..','e':'.','f':'..-.','g':'--.',\n",
    "                       'h':'....','i':'..','j':'.---','k':'-.-','l':'.-..','m':'--','n':'-.',\n",
    "                       'o':'---','p':'.--.','q':'--.-','r':'.-.','s':'...','t':'-','u':'..-',\n",
    "                       'v':'...-','w':'.--','x':'-..-','y':'-.--','z':'--..','0':'-----',\n",
    "                       '1':'.----','2':'..---','3':'...--','4':'....-','5':'.....','6':'-....',\n",
    "                       '7':'--...','8':'---..','9':'----.',',':'--..--','.':'.-.-.-',\n",
    "                       '?':'..--..','/':'-..-.',' ':'|','\\'':'.----.'}\n",
    "    text = str(input(\"Enter your text: \").lower())\n",
    "    morse_text=''\n",
    "    for letter in text:\n",
    "        if letter in morse_code_dict:\n",
    "            morse_text += morse_code_dict[letter.lower()]\n",
    "        else:\n",
    "            print(\"Cannot find morse code for -->\",letter)\n",
    "            morse_text=''\n",
    "            break\n",
    "            #displays code of each letters\n",
    "            #print(letter,':',morse_code_dict[letter])\n",
    "    return morse_text\n",
    "print(\"Morse Code:\", morseCode())"
   ]
  },
  {
   "cell_type": "code",
   "execution_count": 11,
   "id": "public-portrait",
   "metadata": {},
   "outputs": [
    {
     "name": "stdout",
     "output_type": "stream",
     "text": [
      "Enter your text: .\n",
      "Morse code: .-.-.-\n"
     ]
    }
   ],
   "source": [
    "morse_code_dict = {'a':'.-','b':'-...','c':'-.-.','d':'-..','e':'.','f':'..-.','g':'--.',\n",
    "                   'h':'....','i':'..','j':'.---','k':'-.-','l':'.-..','m':'--','n':'-.',\n",
    "                   'o':'---','p':'.--.','q':'--.-','r':'.-.','s':'...','t':'-','u':'..-',\n",
    "                   'v':'...-','w':'.--','x':'-..-','y':'-.--','z':'--..','0':'-----',\n",
    "                   '1':'.----','2':'..---','3':'...--','4':'....-','5':'.....','6':'-....',\n",
    "                   '7':'--...','8':'---..','9':'----.',',':'--..--','.':'.-.-.-',\n",
    "                   '?':'..--..','/':'-..-.',' ':'|','\\'':'.----.'}\n",
    "text = str(input(\"Enter your text: \").lower())\n",
    "morse_text=''\n",
    "for letter in text:\n",
    "    if letter in morse_code_dict:\n",
    "        morse_text += morse_code_dict[letter.lower()]\n",
    "    else:\n",
    "        print(\"Cannot find morse code for -->\",letter)\n",
    "        morse_text=''\n",
    "        break\n",
    "        #displays code of each letters\n",
    "        #print(letter,':',morse_code_dict[letter])\n",
    "if morse_text:\n",
    "    print(\"Morse code:\", morse_text)"
   ]
  }
 ],
 "metadata": {
  "kernelspec": {
   "display_name": "Python 3",
   "language": "python",
   "name": "python3"
  },
  "language_info": {
   "codemirror_mode": {
    "name": "ipython",
    "version": 3
   },
   "file_extension": ".py",
   "mimetype": "text/x-python",
   "name": "python",
   "nbconvert_exporter": "python",
   "pygments_lexer": "ipython3",
   "version": "3.8.5"
  }
 },
 "nbformat": 4,
 "nbformat_minor": 5
}
