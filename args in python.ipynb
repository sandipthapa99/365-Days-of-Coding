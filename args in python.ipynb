{
 "cells": [
  {
   "cell_type": "code",
   "execution_count": 1,
   "id": "stable-eligibility",
   "metadata": {},
   "outputs": [
    {
     "name": "stdout",
     "output_type": "stream",
     "text": [
      "Variable\n",
      "arguments\n",
      "using\n",
      "*args\n"
     ]
    }
   ],
   "source": [
    "def func(*argv):\n",
    "    for i in argv:\n",
    "        print (i)\n",
    "        \n",
    "func('Variable', 'arguments', 'using', '*args')"
   ]
  },
  {
   "cell_type": "code",
   "execution_count": 2,
   "id": "foster-junction",
   "metadata": {},
   "outputs": [
    {
     "name": "stdout",
     "output_type": "stream",
     "text": [
      "First argument : Variable\n",
      "From *argv : arguments\n",
      "From *argv : using\n",
      "From *argv : *args\n"
     ]
    }
   ],
   "source": [
    "def func(arg, *argv):\n",
    "    print (\"First argument :\", arg)\n",
    "    for i in argv:\n",
    "        print(\"From *argv :\", i)\n",
    "\n",
    "func('Variable', 'arguments', 'using', '*args')"
   ]
  },
  {
   "cell_type": "code",
   "execution_count": null,
   "id": "capable-parker",
   "metadata": {},
   "outputs": [],
   "source": []
  }
 ],
 "metadata": {
  "kernelspec": {
   "display_name": "Python 3",
   "language": "python",
   "name": "python3"
  },
  "language_info": {
   "codemirror_mode": {
    "name": "ipython",
    "version": 3
   },
   "file_extension": ".py",
   "mimetype": "text/x-python",
   "name": "python",
   "nbconvert_exporter": "python",
   "pygments_lexer": "ipython3",
   "version": "3.8.5"
  }
 },
 "nbformat": 4,
 "nbformat_minor": 5
}
