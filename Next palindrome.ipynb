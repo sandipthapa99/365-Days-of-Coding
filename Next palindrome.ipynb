{
 "cells": [
  {
   "cell_type": "code",
   "execution_count": 2,
   "id": "industrial-vermont",
   "metadata": {},
   "outputs": [
    {
     "name": "stdout",
     "output_type": "stream",
     "text": [
      "Enter the number:23\n",
      "33\n"
     ]
    }
   ],
   "source": [
    "import sys\n",
    "def func(num):\n",
    "    for i in range(num+1,sys.maxsize):\n",
    "        if str(i) == str(i)[::-1]:\n",
    "            return i\n",
    "number = int(input(\"Enter the number:\"))\n",
    "print(func(number));"
   ]
  }
 ],
 "metadata": {
  "kernelspec": {
   "display_name": "Python 3",
   "language": "python",
   "name": "python3"
  },
  "language_info": {
   "codemirror_mode": {
    "name": "ipython",
    "version": 3
   },
   "file_extension": ".py",
   "mimetype": "text/x-python",
   "name": "python",
   "nbconvert_exporter": "python",
   "pygments_lexer": "ipython3",
   "version": "3.8.5"
  }
 },
 "nbformat": 4,
 "nbformat_minor": 5
}
