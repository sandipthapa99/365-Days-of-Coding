{
 "cells": [
  {
   "cell_type": "code",
   "execution_count": 1,
   "id": "pressing-individual",
   "metadata": {},
   "outputs": [
    {
     "name": "stdout",
     "output_type": "stream",
     "text": [
      "[1, 2, 3, 4, 5, 6]\n"
     ]
    }
   ],
   "source": [
    "# Using Nested Loops\n",
    "\n",
    "my_list = [[1], [2, 3], [4, 5, 6]]\n",
    "\n",
    "flattened_list = []\n",
    "for sublist in my_list:\n",
    "    for elements in sublist:\n",
    "        flattened_list.append(elements)\n",
    "\n",
    "print(flattened_list)"
   ]
  },
  {
   "cell_type": "code",
   "execution_count": 3,
   "id": "streaming-pierce",
   "metadata": {},
   "outputs": [
    {
     "name": "stdout",
     "output_type": "stream",
     "text": [
      "[1, 2, 3, 4, 5, 6]\n"
     ]
    }
   ],
   "source": [
    "# Using List Comprehension\n",
    "\n",
    "my_list = [[1], [2, 3], [4, 5, 6]]\n",
    "\n",
    "flattened_list = [elements for sublist in my_list for elements in sublist]\n",
    "\n",
    "print(flattened_list)"
   ]
  },
  {
   "cell_type": "code",
   "execution_count": null,
   "id": "shaped-thought",
   "metadata": {},
   "outputs": [],
   "source": []
  }
 ],
 "metadata": {
  "kernelspec": {
   "display_name": "Python 3",
   "language": "python",
   "name": "python3"
  },
  "language_info": {
   "codemirror_mode": {
    "name": "ipython",
    "version": 3
   },
   "file_extension": ".py",
   "mimetype": "text/x-python",
   "name": "python",
   "nbconvert_exporter": "python",
   "pygments_lexer": "ipython3",
   "version": "3.8.5"
  }
 },
 "nbformat": 4,
 "nbformat_minor": 5
}
