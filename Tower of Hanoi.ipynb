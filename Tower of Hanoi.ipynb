{
 "cells": [
  {
   "cell_type": "markdown",
   "id": "literary-uganda",
   "metadata": {},
   "source": [
    "Tower of hanoi is a mathematical puzzle which consists of three towers and more than one ring of different sizes as depicted;"
   ]
  },
  {
   "cell_type": "markdown",
   "id": "final-latter",
   "metadata": {},
   "source": [
    "The objective of the puzzle is to move the entire stack to another rod obeying the following simple rules:\n",
    "Only one disk ca be moved at a time\n",
    "only the top disk can be removed\n",
    "No disk can be placed on top of a smaller disk"
   ]
  },
  {
   "cell_type": "code",
   "execution_count": 4,
   "id": "chicken-charleston",
   "metadata": {},
   "outputs": [
    {
     "name": "stdout",
     "output_type": "stream",
     "text": [
      "Enter number of disks: 3\n",
      "Move disk 1 from source A to destination B\n",
      "Move disk 2 from source A to destination C\n",
      "Move disk 1 from source B to destination C\n",
      "Move disk 3 from source A to destination B\n",
      "Move disk 1 from source C to destination A\n",
      "Move disk 2 from source C to destination B\n",
      "Move disk 1 from source A to destination B\n"
     ]
    }
   ],
   "source": [
    "def TowerofHanoi(n, source, destination, auxiliary):\n",
    "    if n==1:\n",
    "        print(\"Move disk 1 from source\", source, \"to destination\", destination)\n",
    "        return\n",
    "    else:\n",
    "        TowerofHanoi(n-1, source,auxiliary, destination)\n",
    "        print(\"Move disk\", n, \"from source\", source, \"to destination\", destination)     \n",
    "        TowerofHanoi(n-1,auxiliary, destination,source)\n",
    "    \n",
    "n=int(input(\"Enter number of disks: \"))\n",
    "TowerofHanoi(n,'A','B','C',)\n",
    "    "
   ]
  },
  {
   "cell_type": "code",
   "execution_count": null,
   "id": "loved-bloom",
   "metadata": {},
   "outputs": [],
   "source": []
  }
 ],
 "metadata": {
  "kernelspec": {
   "display_name": "Python 3",
   "language": "python",
   "name": "python3"
  },
  "language_info": {
   "codemirror_mode": {
    "name": "ipython",
    "version": 3
   },
   "file_extension": ".py",
   "mimetype": "text/x-python",
   "name": "python",
   "nbconvert_exporter": "python",
   "pygments_lexer": "ipython3",
   "version": "3.8.5"
  }
 },
 "nbformat": 4,
 "nbformat_minor": 5
}
