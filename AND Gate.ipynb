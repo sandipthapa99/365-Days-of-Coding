{
 "cells": [
  {
   "cell_type": "code",
   "execution_count": 1,
   "id": "french-magazine",
   "metadata": {},
   "outputs": [
    {
     "name": "stdout",
     "output_type": "stream",
     "text": [
      "First Gate: True\n",
      "Second Gate: False\n",
      "True OR False : True\n"
     ]
    }
   ],
   "source": [
    "def OR_GATE(a,b):\n",
    "    if a == 'false' and b == 'false':\n",
    "        return False\n",
    "    else:\n",
    "        return True\n",
    "def get_input():\n",
    "    x = input(\"First Gate: \")\n",
    "    y = input(\"Second Gate: \")\n",
    "    return x,y\n",
    "def display():\n",
    "    print(x,\"OR\",y,\":\",OR_GATE(x.lower(),y.lower()))\n",
    "x,y = get_input()  \n",
    "display()"
   ]
  }
 ],
 "metadata": {
  "kernelspec": {
   "display_name": "Python 3",
   "language": "python",
   "name": "python3"
  },
  "language_info": {
   "codemirror_mode": {
    "name": "ipython",
    "version": 3
   },
   "file_extension": ".py",
   "mimetype": "text/x-python",
   "name": "python",
   "nbconvert_exporter": "python",
   "pygments_lexer": "ipython3",
   "version": "3.8.5"
  }
 },
 "nbformat": 4,
 "nbformat_minor": 5
}
