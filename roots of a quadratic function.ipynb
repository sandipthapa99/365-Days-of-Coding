{
 "cells": [
  {
   "cell_type": "code",
   "execution_count": 10,
   "id": "pretty-letters",
   "metadata": {},
   "outputs": [
    {
     "name": "stdout",
     "output_type": "stream",
     "text": [
      "Quadratic equation : (a*x^2) + b*x + c\n",
      "a: 10\n",
      "b: 20\n",
      "c: 5\n",
      "The roots are: -0.292893 and -1.707107\n"
     ]
    }
   ],
   "source": [
    "from math import sqrt\n",
    "\n",
    "print(\"Quadratic equation : (a*x^2) + b*x + c\")\n",
    "a = float(input(\"a: \"))\n",
    "b = float(input(\"b: \"))\n",
    "c = float(input(\"c: \"))\n",
    "\n",
    "#===============================#\n",
    "dis = b**2 - 4*a*c #discriminant\n",
    "#===============================#\n",
    "if dis > 0:\n",
    "    # We will have 2 roots\n",
    "    x1 = (((-b) + sqrt(dis))/(2*a))     \n",
    "    x2 = (((-b) - sqrt(dis))/(2*a))\n",
    "    print(\"The roots are: %f and %f\" % (x1, x2))\n",
    "elif dis == 0:\n",
    "    # We will have only one root\n",
    "    x = (-b) / 2*a\n",
    "    print(\"The root is: \", x)\n",
    "else:\n",
    "    # When we have zero roots\n",
    "    print(\"No roots, discriminant is less than 0.\")"
   ]
  },
  {
   "cell_type": "code",
   "execution_count": null,
   "id": "genetic-basketball",
   "metadata": {},
   "outputs": [],
   "source": []
  }
 ],
 "metadata": {
  "kernelspec": {
   "display_name": "Python 3",
   "language": "python",
   "name": "python3"
  },
  "language_info": {
   "codemirror_mode": {
    "name": "ipython",
    "version": 3
   },
   "file_extension": ".py",
   "mimetype": "text/x-python",
   "name": "python",
   "nbconvert_exporter": "python",
   "pygments_lexer": "ipython3",
   "version": "3.8.5"
  }
 },
 "nbformat": 4,
 "nbformat_minor": 5
}
