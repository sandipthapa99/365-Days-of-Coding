{
 "cells": [
  {
   "cell_type": "code",
   "execution_count": 9,
   "id": "mediterranean-generation",
   "metadata": {},
   "outputs": [
    {
     "name": "stdout",
     "output_type": "stream",
     "text": [
      "How many times to flip the coin? -->500\n",
      "Heads: 255\n",
      "Tails: 245\n"
     ]
    }
   ],
   "source": [
    "import random\n",
    "import itertools\n",
    "\n",
    "times=int(input(\"How many times to flip the coin? -->\"))\n",
    "sides = {\n",
    "    'H': 0,\n",
    "    'T': 0,\n",
    "}\n",
    "result = list(sides.keys())\n",
    "\n",
    "for i in range(times):\n",
    "    sides[random.choice(result)] += 1\n",
    "\n",
    "print('Heads:', sides['H'])\n",
    "print('Tails:', sides['T'])"
   ]
  }
 ],
 "metadata": {
  "kernelspec": {
   "display_name": "Python 3",
   "language": "python",
   "name": "python3"
  },
  "language_info": {
   "codemirror_mode": {
    "name": "ipython",
    "version": 3
   },
   "file_extension": ".py",
   "mimetype": "text/x-python",
   "name": "python",
   "nbconvert_exporter": "python",
   "pygments_lexer": "ipython3",
   "version": "3.8.5"
  }
 },
 "nbformat": 4,
 "nbformat_minor": 5
}
