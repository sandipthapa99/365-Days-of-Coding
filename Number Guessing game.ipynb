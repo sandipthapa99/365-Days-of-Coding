{
 "cells": [
  {
   "cell_type": "code",
   "execution_count": 25,
   "id": "present-counter",
   "metadata": {},
   "outputs": [
    {
     "name": "stdout",
     "output_type": "stream",
     "text": [
      "Enter Lower bound:- 1\n",
      "Enter Upper bound:- 5\n",
      "You've 2 chances to guess the integer!\n",
      "\n",
      "Guess a number:- 1\n",
      "You Guessed low!\n",
      "Guess a number:- 3\n",
      "You guessed high!\n",
      "\n",
      "The number is 2\n",
      "Better Luck Next time!\n"
     ]
    }
   ],
   "source": [
    "import random\n",
    "import math\n",
    "\n",
    "lower = int(input(\"Enter Lower bound:- \"))\n",
    "upper = int(input(\"Enter Upper bound:- \"))\n",
    "x = random.randint(lower, upper)\n",
    "chances = round(math.log(upper - lower + 1, 2))\n",
    "print(\"You've\",chances,\"chances to guess the integer!\\n\")\n",
    "\n",
    "guess_count = 0\n",
    "while guess_count < chances:\n",
    "    guess_count += 1\n",
    "    guess = int(input(\"Guess a number:- \"))\n",
    "\n",
    "    if x == guess:\n",
    "        print(\"Congratulations you did it in \",guess_count, \" try\")\n",
    "        break\n",
    "    elif x < guess:\n",
    "        print(\"You guessed high!\")\n",
    "    elif x > guess:\n",
    "        print(\"You Guessed low!\")\n",
    "if guess_count >= chances:\n",
    "    print(\"\\nThe number is %d\" % x)\n",
    "    print(\"Better Luck Next time!\")"
   ]
  }
 ],
 "metadata": {
  "kernelspec": {
   "display_name": "Python 3",
   "language": "python",
   "name": "python3"
  },
  "language_info": {
   "codemirror_mode": {
    "name": "ipython",
    "version": 3
   },
   "file_extension": ".py",
   "mimetype": "text/x-python",
   "name": "python",
   "nbconvert_exporter": "python",
   "pygments_lexer": "ipython3",
   "version": "3.8.5"
  }
 },
 "nbformat": 4,
 "nbformat_minor": 5
}
