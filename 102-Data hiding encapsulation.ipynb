{
 "cells": [
  {
   "cell_type": "markdown",
   "id": "5c63dd25",
   "metadata": {},
   "source": [
    "Encapsulation is one of the key part in OOP. The concept states, the implementation details of a class should be hidden and a clean interface be presented for class users.\n",
    "\n",
    "Weakly private methods and attributes have a single underscore at the beginning.\n",
    "This signals that they are private, and shouldn't be used by external code.\n",
    "However, it is mostly only a convention, and does not stop external code from accessing them.\n",
    "Its only actual effect is that from module_name import * won't import variables that start with a single underscore.\n",
    "Strongly private methods and attributes have a double underscore at the beginning of their names.\n",
    "\n",
    "\n",
    "_hidenlist is marked as private, but still can be accessed in the outside code\n",
    "\n",
    "The __repr__ magic method is used for string representation of the instance."
   ]
  },
  {
   "cell_type": "code",
   "execution_count": 2,
   "id": "b1c95ef2",
   "metadata": {},
   "outputs": [
    {
     "name": "stdout",
     "output_type": "stream",
     "text": [
      "List: [3, 5, 7] \n",
      "List: [0, 3, 5, 7] \n",
      "List: [0, 3, 5] \n",
      "[0, 3, 5]\n"
     ]
    }
   ],
   "source": [
    "class Listing:\n",
    "    def __init__(self, items):\n",
    "        self._hiddenlist = list(items)\n",
    "    \n",
    "    def add_item(self, value):\n",
    "        self._hiddenlist.insert(0, value)\n",
    "    \n",
    "    def remove_item(self):\n",
    "        return self._hiddenlist.pop(-1)\n",
    "    \n",
    "    def __repr__(self):\n",
    "        return \"List: {} \".format(self._hiddenlist)\n",
    "    \n",
    "List = Listing([3,5,7])\n",
    "print(List)\n",
    "List.add_item(0)\n",
    "print(List)\n",
    "List.remove_item()\n",
    "print(List)\n",
    "print(List._hiddenlist)"
   ]
  },
  {
   "cell_type": "code",
   "execution_count": 3,
   "id": "2d754336",
   "metadata": {},
   "outputs": [
    {
     "name": "stdout",
     "output_type": "stream",
     "text": [
      "7\n",
      "7\n"
     ]
    },
    {
     "ename": "AttributeError",
     "evalue": "'Spam' object has no attribute '__egg'",
     "output_type": "error",
     "traceback": [
      "\u001b[1;31m---------------------------------------------------------------------------\u001b[0m",
      "\u001b[1;31mAttributeError\u001b[0m                            Traceback (most recent call last)",
      "\u001b[1;32m<ipython-input-3-316d40a74b21>\u001b[0m in \u001b[0;36m<module>\u001b[1;34m\u001b[0m\n\u001b[0;32m      7\u001b[0m \u001b[0ms\u001b[0m\u001b[1;33m.\u001b[0m\u001b[0mprint_egg\u001b[0m\u001b[1;33m(\u001b[0m\u001b[1;33m)\u001b[0m\u001b[1;33m\u001b[0m\u001b[1;33m\u001b[0m\u001b[0m\n\u001b[0;32m      8\u001b[0m \u001b[0mprint\u001b[0m\u001b[1;33m(\u001b[0m\u001b[0ms\u001b[0m\u001b[1;33m.\u001b[0m\u001b[0m_Spam__egg\u001b[0m\u001b[1;33m)\u001b[0m\u001b[1;33m\u001b[0m\u001b[1;33m\u001b[0m\u001b[0m\n\u001b[1;32m----> 9\u001b[1;33m \u001b[0mprint\u001b[0m\u001b[1;33m(\u001b[0m\u001b[0ms\u001b[0m\u001b[1;33m.\u001b[0m\u001b[0m__egg\u001b[0m\u001b[1;33m)\u001b[0m\u001b[1;33m\u001b[0m\u001b[1;33m\u001b[0m\u001b[0m\n\u001b[0m",
      "\u001b[1;31mAttributeError\u001b[0m: 'Spam' object has no attribute '__egg'"
     ]
    }
   ],
   "source": [
    "class Spam:\n",
    "    __egg = 7\n",
    "    def print_egg(self):\n",
    "        print(self.__egg)\n",
    "\n",
    "s = Spam()\n",
    "s.print_egg()\n",
    "print(s._Spam__egg)\n",
    "print(s.__egg)"
   ]
  },
  {
   "cell_type": "code",
   "execution_count": null,
   "id": "10c3e45f",
   "metadata": {},
   "outputs": [],
   "source": []
  }
 ],
 "metadata": {
  "kernelspec": {
   "display_name": "Python 3",
   "language": "python",
   "name": "python3"
  },
  "language_info": {
   "codemirror_mode": {
    "name": "ipython",
    "version": 3
   },
   "file_extension": ".py",
   "mimetype": "text/x-python",
   "name": "python",
   "nbconvert_exporter": "python",
   "pygments_lexer": "ipython3",
   "version": "3.8.10"
  }
 },
 "nbformat": 4,
 "nbformat_minor": 5
}
