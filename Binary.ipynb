{
 "cells": [
  {
   "cell_type": "code",
   "execution_count": 42,
   "id": "civic-system",
   "metadata": {},
   "outputs": [
    {
     "name": "stdout",
     "output_type": "stream",
     "text": [
      "Enter the Decimal number: 100\n",
      "1100100"
     ]
    }
   ],
   "source": [
    "def Binary(n):\n",
    "    if n > 1:\n",
    "        Binary(n//2)\n",
    "    r = n % 2\n",
    "    print(r, end='')\n",
    "\n",
    "dec = int(input(\"Enter the Decimal number: \"))\n",
    "Binary(dec)"
   ]
  }
 ],
 "metadata": {
  "kernelspec": {
   "display_name": "Python 3",
   "language": "python",
   "name": "python3"
  },
  "language_info": {
   "codemirror_mode": {
    "name": "ipython",
    "version": 3
   },
   "file_extension": ".py",
   "mimetype": "text/x-python",
   "name": "python",
   "nbconvert_exporter": "python",
   "pygments_lexer": "ipython3",
   "version": "3.8.5"
  }
 },
 "nbformat": 4,
 "nbformat_minor": 5
}
