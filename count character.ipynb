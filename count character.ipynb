{
 "cells": [
  {
   "cell_type": "code",
   "execution_count": 1,
   "id": "played-jungle",
   "metadata": {},
   "outputs": [
    {
     "name": "stdout",
     "output_type": "stream",
     "text": [
      "Enter your string: Sandip@99\n",
      "Upper case characters:  1\n",
      "Lower case characters:  5\n",
      "Number case:  2\n",
      "Special characters:  1\n"
     ]
    }
   ],
   "source": [
    "def func(str):\n",
    "    upper, lower, number, special = 0, 0, 0, 0\n",
    "    for i in range(len(str)):\n",
    "        if str[i] >= 'A' and str[i] <= 'Z': upper += 1\n",
    "        elif str[i] >= 'a' and str[i] <= 'z': lower += 1\n",
    "        elif str[i] >= '0' and str[i] <= '9': number += 1\n",
    "        else:\n",
    "            special += 1\n",
    "    return upper, lower, number, special\n",
    "           \n",
    "str = input(\"Enter your string: \")\n",
    "u, l, n, s = func(str)\n",
    "\n",
    "print('Upper case characters: ',u)\n",
    "print('Lower case characters: ',l)\n",
    "print('Number case: ',n)\n",
    "print('Special characters: ',s)"
   ]
  }
 ],
 "metadata": {
  "kernelspec": {
   "display_name": "Python 3",
   "language": "python",
   "name": "python3"
  },
  "language_info": {
   "codemirror_mode": {
    "name": "ipython",
    "version": 3
   },
   "file_extension": ".py",
   "mimetype": "text/x-python",
   "name": "python",
   "nbconvert_exporter": "python",
   "pygments_lexer": "ipython3",
   "version": "3.8.5"
  }
 },
 "nbformat": 4,
 "nbformat_minor": 5
}
