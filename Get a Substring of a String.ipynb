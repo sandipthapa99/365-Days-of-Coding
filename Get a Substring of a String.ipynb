{
 "cells": [
  {
   "cell_type": "code",
   "execution_count": 7,
   "id": "complex-pakistan",
   "metadata": {},
   "outputs": [
    {
     "name": "stdout",
     "output_type": "stream",
     "text": [
      "Python\n",
      "Programming is Fun.\n",
      "Python Programming is Fun\n"
     ]
    }
   ],
   "source": [
    "my_string = \"Python Programming is Fun.\"\n",
    "\n",
    "# First to specific place\n",
    "print(my_string[0:6])\n",
    "\n",
    "# Specific place to last\n",
    "print(my_string[7:])\n",
    "\n",
    "# First to last\n",
    "print(my_string[:-1])"
   ]
  },
  {
   "cell_type": "code",
   "execution_count": 4,
   "id": "dependent-plaza",
   "metadata": {},
   "outputs": [
    {
     "name": "stdout",
     "output_type": "stream",
     "text": [
      "5/7 + 9/11 = 118/77\n",
      "5/7 - 9/11 = -8/77\n",
      "5/7 * 9/11 = 45/77\n",
      "5/7 / 9/11 = 55/63\n"
     ]
    }
   ],
   "source": [
    "import fractions\n",
    "\n",
    "f1 = fractions.Fraction(5, 7)\n",
    "f2 = fractions.Fraction(9, 11)\n",
    "\n",
    "print('{} + {} = {}'.format(f1, f2, f1 + f2))\n",
    "print('{} - {} = {}'.format(f1, f2, f1 - f2))\n",
    "print('{} * {} = {}'.format(f1, f2, f1 * f2))\n",
    "print('{} / {} = {}'.format(f1, f2, f1 / f2))"
   ]
  }
 ],
 "metadata": {
  "kernelspec": {
   "display_name": "Python 3",
   "language": "python",
   "name": "python3"
  },
  "language_info": {
   "codemirror_mode": {
    "name": "ipython",
    "version": 3
   },
   "file_extension": ".py",
   "mimetype": "text/x-python",
   "name": "python",
   "nbconvert_exporter": "python",
   "pygments_lexer": "ipython3",
   "version": "3.8.5"
  }
 },
 "nbformat": 4,
 "nbformat_minor": 5
}
