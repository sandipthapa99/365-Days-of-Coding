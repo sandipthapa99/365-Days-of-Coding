{
 "cells": [
  {
   "cell_type": "code",
   "execution_count": 1,
   "id": "bored-defendant",
   "metadata": {},
   "outputs": [
    {
     "name": "stdout",
     "output_type": "stream",
     "text": [
      "Scissors, Paper, Rock or Quit: Rock\n",
      "Player Won!\n",
      "Player: Rock\n",
      "Computer: Scissors\n",
      "\n",
      "Score: Computer-0 Player-1\n",
      "\n",
      "Scissors, Paper, Rock or Quit: Paper\n",
      "Tie\n",
      "Player: Paper\n",
      "Computer: Paper\n",
      "\n",
      "Score: Computer-0 Player-1\n",
      "\n",
      "Scissors, Paper, Rock or Quit: Quit\n"
     ]
    }
   ],
   "source": [
    "import random\n",
    "options = ['Scissors', 'Paper', 'Rock']\n",
    "computer=c= 0\n",
    "pick=p= 0\n",
    "\n",
    "while True:\n",
    "    computer_choice = random.choice(options)\n",
    "    pick = input(\"Scissors, Paper, Rock or Quit: \")\n",
    "    if pick ==computer_choice:\n",
    "        print(\"Tie\")\n",
    "    elif pick == 'Scissors':\n",
    "        if computer_choice=='Paper':\n",
    "            print(\"Player Won!\")\n",
    "            p+=1\n",
    "        else:\n",
    "            print(\"Computer Won!\")\n",
    "            c+=1\n",
    "    elif pick == 'Paper':\n",
    "        if computer_choice=='Rock':\n",
    "            print(\"Player Won!\")\n",
    "            p+=1\n",
    "        else:\n",
    "            print(\"Computer Won!\")\n",
    "            c+=1\n",
    "    elif pick == 'Rock':\n",
    "        if computer_choice=='Scissors':\n",
    "            print(\"Player Won!\")\n",
    "            p+=1\n",
    "        else:\n",
    "            print(\"Computer Won!\")\n",
    "            c+=1   \n",
    "    elif pick == 'Quit':\n",
    "        break\n",
    "    else:\n",
    "        print(\"Wrong Input!\")\n",
    "    print(\"Player: \"+pick)\n",
    "    print(\"Computer: \"+computer_choice)\n",
    "    print(\"\")\n",
    "    print(\"Score: Computer-\"+str(c) + \" Player-\"+str(p))\n",
    "    print(\"\")  "
   ]
  }
 ],
 "metadata": {
  "kernelspec": {
   "display_name": "Python 3",
   "language": "python",
   "name": "python3"
  },
  "language_info": {
   "codemirror_mode": {
    "name": "ipython",
    "version": 3
   },
   "file_extension": ".py",
   "mimetype": "text/x-python",
   "name": "python",
   "nbconvert_exporter": "python",
   "pygments_lexer": "ipython3",
   "version": "3.8.5"
  }
 },
 "nbformat": 4,
 "nbformat_minor": 5
}
