{
 "cells": [
  {
   "cell_type": "code",
   "execution_count": 16,
   "id": "convinced-blake",
   "metadata": {},
   "outputs": [
    {
     "name": "stdout",
     "output_type": "stream",
     "text": [
      "False\n",
      "True\n"
     ]
    }
   ],
   "source": [
    "pairs = {'}' :'{',']':'[',')' :'('}\n",
    "def func(exp):\n",
    "    expression = []\n",
    "    for i in exp:\n",
    "        if i in '([{':\n",
    "            expression.append(i)\n",
    "        \n",
    "        elif i in ')]}':\n",
    "            if len(expression) == 0:\n",
    "                return False\n",
    "                \n",
    "            elif (i, expression[-1]) in pairs.items():\n",
    "                expression.pop()\n",
    "                \n",
    "    if len(expression) == 0:\n",
    "        return True\n",
    "    else:\n",
    "        return False\n",
    "\n",
    "print(func('({[])'))\n",
    "print(func('([{}])'))"
   ]
  }
 ],
 "metadata": {
  "kernelspec": {
   "display_name": "Python 3",
   "language": "python",
   "name": "python3"
  },
  "language_info": {
   "codemirror_mode": {
    "name": "ipython",
    "version": 3
   },
   "file_extension": ".py",
   "mimetype": "text/x-python",
   "name": "python",
   "nbconvert_exporter": "python",
   "pygments_lexer": "ipython3",
   "version": "3.8.5"
  }
 },
 "nbformat": 4,
 "nbformat_minor": 5
}
