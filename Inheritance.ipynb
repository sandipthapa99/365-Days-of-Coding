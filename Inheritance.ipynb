{
 "cells": [
  {
   "cell_type": "code",
   "execution_count": 1,
   "id": "hairy-saver",
   "metadata": {},
   "outputs": [
    {
     "name": "stdout",
     "output_type": "stream",
     "text": [
      "length:4\n",
      "breadth:5\n",
      "height:6\n",
      "Area of Cuboid: 20\n",
      "Volume of Cuboid: 120\n"
     ]
    }
   ],
   "source": [
    "class Rectangle:\n",
    "    def __init__(self, length=1, breadth=1):\n",
    "        self.length = length\n",
    "        self.breadth = breadth\n",
    "    def area(self):\n",
    "        return self.length * self.breadth\n",
    "\n",
    "class Cuboid(Rectangle):\n",
    "    # method overriding\n",
    "    def __init__(self, length, breadth, height):\n",
    "        self.length = length\n",
    "        self.breadth = breadth\n",
    "        self.height = height\n",
    "    def volume(self):\n",
    "        return self.length * self.breadth * self.height\n",
    "\n",
    "l= int(input(\"length:\"))\n",
    "b= int(input(\"breadth:\"))\n",
    "h= int(input(\"height:\"))\n",
    "cbd = Cuboid(l,b,h)\n",
    "\n",
    "print(\"Area of Cuboid:\",cbd.area()) # feature of Rectangle class\n",
    "print(\"Volume of Cuboid:\",cbd.volume())"
   ]
  }
 ],
 "metadata": {
  "kernelspec": {
   "display_name": "Python 3",
   "language": "python",
   "name": "python3"
  },
  "language_info": {
   "codemirror_mode": {
    "name": "ipython",
    "version": 3
   },
   "file_extension": ".py",
   "mimetype": "text/x-python",
   "name": "python",
   "nbconvert_exporter": "python",
   "pygments_lexer": "ipython3",
   "version": "3.8.5"
  }
 },
 "nbformat": 4,
 "nbformat_minor": 5
}
