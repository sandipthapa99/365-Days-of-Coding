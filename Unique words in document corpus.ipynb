{
 "cells": [
  {
   "cell_type": "code",
   "execution_count": 1,
   "id": "amber-concrete",
   "metadata": {},
   "outputs": [
    {
     "name": "stdout",
     "output_type": "stream",
     "text": [
      "Unique words: ['AI', 'is', 'exciting', 'can', 'be', 'a', 'threat', 'may', 'no', 'Python', 'famous', 'for']\n"
     ]
    }
   ],
   "source": [
    "document_corpus = [ \"AI is exciting\" ,\n",
    "                   \"AI can be a threat\" ,\n",
    "                   \"AI may no be a threat\" ,\n",
    "                   \"Python is famous for AI\" ]\n",
    "data_corpus =[]\n",
    "for row in document_corpus :\n",
    "    for word in row.split(\" \"):\n",
    "        if word not in data_corpus :\n",
    "            data_corpus.append (word)\n",
    "data_corpus = sorted ( data_corpus )\n",
    "print (\"Unique words:\",data_corpus )"
   ]
  }
 ],
 "metadata": {
  "kernelspec": {
   "display_name": "Python 3",
   "language": "python",
   "name": "python3"
  },
  "language_info": {
   "codemirror_mode": {
    "name": "ipython",
    "version": 3
   },
   "file_extension": ".py",
   "mimetype": "text/x-python",
   "name": "python",
   "nbconvert_exporter": "python",
   "pygments_lexer": "ipython3",
   "version": "3.8.5"
  }
 },
 "nbformat": 4,
 "nbformat_minor": 5
}
