{
 "cells": [
  {
   "cell_type": "code",
   "execution_count": 1,
   "id": "similar-report",
   "metadata": {},
   "outputs": [
    {
     "name": "stdout",
     "output_type": "stream",
     "text": [
      "Calling make_obj() function...\n",
      "Making Object...\n",
      "Database created.\n",
      "make_obj() function ended...\n",
      "Destructor called.\n",
      "Program Ended...\n"
     ]
    }
   ],
   "source": [
    "class Database:\n",
    "    # Initialization\n",
    "    def __init__(self):\n",
    "        print('Database created.')\n",
    "\n",
    "    # Destructor\n",
    "    def __del__(self):\n",
    "        print(\"Destructor called.\")\n",
    "\n",
    "def make_obj():\n",
    "    print('Making Object...')\n",
    "    obj = Database()\n",
    "    print('make_obj() function ended...')\n",
    "    return obj\n",
    "\n",
    "print('Calling make_obj() function...')\n",
    "make_obj()\n",
    "print('Program Ended...')"
   ]
  }
 ],
 "metadata": {
  "kernelspec": {
   "display_name": "Python 3",
   "language": "python",
   "name": "python3"
  },
  "language_info": {
   "codemirror_mode": {
    "name": "ipython",
    "version": 3
   },
   "file_extension": ".py",
   "mimetype": "text/x-python",
   "name": "python",
   "nbconvert_exporter": "python",
   "pygments_lexer": "ipython3",
   "version": "3.8.5"
  }
 },
 "nbformat": 4,
 "nbformat_minor": 5
}
