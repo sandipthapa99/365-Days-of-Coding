{
 "cells": [
  {
   "cell_type": "code",
   "execution_count": 10,
   "id": "noble-lexington",
   "metadata": {},
   "outputs": [
    {
     "name": "stdout",
     "output_type": "stream",
     "text": [
      "Enter first number: 220\n",
      "Enter second number: 284\n",
      "220 and 284 are Amicable!\n"
     ]
    }
   ],
   "source": [
    "x=int(input('Enter first number: '))\n",
    "y=int(input('Enter second number: '))\n",
    "sum1=0\n",
    "sum2=0\n",
    "\n",
    "for i in range(1,x):\n",
    "    if x%i==0:\n",
    "        sum1+=i\n",
    "for j in range(1,y):\n",
    "    if y%j==0:\n",
    "        sum2+=j\n",
    "        \n",
    "if(sum1==y and sum2==x):\n",
    "    print(x,\"and\",y,\"are Amicable!\")    \n",
    "else:\n",
    "    print(x,\"and\",y,\"are not Amicable!\")"
   ]
  }
 ],
 "metadata": {
  "kernelspec": {
   "display_name": "Python 3",
   "language": "python",
   "name": "python3"
  },
  "language_info": {
   "codemirror_mode": {
    "name": "ipython",
    "version": 3
   },
   "file_extension": ".py",
   "mimetype": "text/x-python",
   "name": "python",
   "nbconvert_exporter": "python",
   "pygments_lexer": "ipython3",
   "version": "3.8.5"
  }
 },
 "nbformat": 4,
 "nbformat_minor": 5
}
