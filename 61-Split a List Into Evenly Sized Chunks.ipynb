{
 "cells": [
  {
   "cell_type": "code",
   "execution_count": 1,
   "id": "great-puppy",
   "metadata": {},
   "outputs": [
    {
     "name": "stdout",
     "output_type": "stream",
     "text": [
      "Original List: [1, 2, 3, 4, 5, 6, 7]\n",
      "Chunked List: [[1, 2], [3, 4], [5, 6], [7]]\n"
     ]
    }
   ],
   "source": [
    "def func(list_item, chunk_size):\n",
    "    for i in range(0, len(list_item), chunk_size):\n",
    "        yield list_item[i:i + chunk_size]\n",
    "chunk_size = 2\n",
    "my_list = [1,2,3,4,5,6,7]\n",
    "print(\"Original List:\",my_list)\n",
    "print(\"Chunked List:\",list(func(my_list, chunk_size)))"
   ]
  },
  {
   "cell_type": "code",
   "execution_count": 2,
   "id": "forced-negotiation",
   "metadata": {},
   "outputs": [
    {
     "name": "stdout",
     "output_type": "stream",
     "text": [
      "Original List: [1, 2, 3, 4, 5, 6, 7]\n",
      "Chunked List: [[1, 2], [3, 4], [5, 6], [7]]\n"
     ]
    }
   ],
   "source": [
    "# Using List Comprehension\n",
    "chunk_size = 2\n",
    "list_chunked = [my_list[i:i + chunk_size] for i in range(0, len(my_list), chunk_size)]\n",
    "print(\"Original List:\",my_list)\n",
    "print(\"Chunked List:\",list_chunked)"
   ]
  },
  {
   "cell_type": "code",
   "execution_count": null,
   "id": "increased-brown",
   "metadata": {},
   "outputs": [],
   "source": []
  }
 ],
 "metadata": {
  "kernelspec": {
   "display_name": "Python 3",
   "language": "python",
   "name": "python3"
  },
  "language_info": {
   "codemirror_mode": {
    "name": "ipython",
    "version": 3
   },
   "file_extension": ".py",
   "mimetype": "text/x-python",
   "name": "python",
   "nbconvert_exporter": "python",
   "pygments_lexer": "ipython3",
   "version": "3.8.5"
  }
 },
 "nbformat": 4,
 "nbformat_minor": 5
}
