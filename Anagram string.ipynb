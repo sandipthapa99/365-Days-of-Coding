{
 "cells": [
  {
   "cell_type": "code",
   "execution_count": 1,
   "id": "compatible-correlation",
   "metadata": {},
   "outputs": [
    {
     "name": "stdout",
     "output_type": "stream",
     "text": [
      "First string: Eat\n",
      "Second String: Tea\n",
      "========================\n",
      "'Eat' and 'Tea' are anagram.\n"
     ]
    }
   ],
   "source": [
    "str1 = input(\"First string: \")\n",
    "str2 = input(\"Second String: \")\n",
    "print(\"========================\")\n",
    "string1 = str1.lower()\n",
    "string2 = str2.lower()\n",
    "\n",
    "if(len(string1) == len(string2)):\n",
    "    sorted_string1 = sorted(string1)\n",
    "    sorted_string2 = sorted(string2)\n",
    "\n",
    "    if(sorted_string1 == sorted_string2):\n",
    "        print(\"'\"+str1+\"' \"+\"and \"+\"'\"+str2+\"' \"+\"are anagram.\")\n",
    "    else:\n",
    "        print(\"'\"+str1+\"' \"+\"and \"+\"'\"+str2+\"' \"+\" are not anagram.\")\n",
    "else:\n",
    "    print(\"'\"+str1+\"' \"+\"and \"+\"'\"+str2+\"' \"+\" are not anagram.\")"
   ]
  },
  {
   "cell_type": "code",
   "execution_count": null,
   "id": "filled-drive",
   "metadata": {},
   "outputs": [],
   "source": []
  }
 ],
 "metadata": {
  "kernelspec": {
   "display_name": "Python 3",
   "language": "python",
   "name": "python3"
  },
  "language_info": {
   "codemirror_mode": {
    "name": "ipython",
    "version": 3
   },
   "file_extension": ".py",
   "mimetype": "text/x-python",
   "name": "python",
   "nbconvert_exporter": "python",
   "pygments_lexer": "ipython3",
   "version": "3.8.5"
  }
 },
 "nbformat": 4,
 "nbformat_minor": 5
}
