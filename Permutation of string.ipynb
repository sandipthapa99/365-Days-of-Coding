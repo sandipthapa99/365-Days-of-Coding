{
 "cells": [
  {
   "cell_type": "code",
   "execution_count": 1,
   "id": "pending-fellow",
   "metadata": {},
   "outputs": [
    {
     "name": "stdout",
     "output_type": "stream",
     "text": [
      "Your String: HEY\n",
      "Possible Permutations:\n",
      "--> HEY\n",
      "--> HYE\n",
      "--> EHY\n",
      "--> EYH\n",
      "--> YHE\n",
      "--> YEH\n",
      "There are 6 possible permutations.\n"
     ]
    }
   ],
   "source": [
    "from itertools import permutations\n",
    "  \n",
    "def func(str):  \n",
    "    count = 0\n",
    "    permutation_ls = permutations(str)\n",
    "    for perms in list(permutation_ls):\n",
    "        count += 1\n",
    "        print (\"-->\",''.join(perms))\n",
    "    print(\"There are\",count, \"possible permutations.\")   \n",
    "str = input(\"Your String: \")\n",
    "print(\"Possible Permutations:\")\n",
    "func(str)"
   ]
  }
 ],
 "metadata": {
  "kernelspec": {
   "display_name": "Python 3",
   "language": "python",
   "name": "python3"
  },
  "language_info": {
   "codemirror_mode": {
    "name": "ipython",
    "version": 3
   },
   "file_extension": ".py",
   "mimetype": "text/x-python",
   "name": "python",
   "nbconvert_exporter": "python",
   "pygments_lexer": "ipython3",
   "version": "3.8.5"
  }
 },
 "nbformat": 4,
 "nbformat_minor": 5
}
