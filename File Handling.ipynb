{
 "cells": [
  {
   "cell_type": "code",
   "execution_count": 1,
   "id": "capable-latter",
   "metadata": {},
   "outputs": [],
   "source": [
    "# Creting a text file\n",
    "!echo \"Hello Connections!\" > textfile.txt"
   ]
  },
  {
   "cell_type": "code",
   "execution_count": 2,
   "id": "foster-thinking",
   "metadata": {},
   "outputs": [
    {
     "name": "stdout",
     "output_type": "stream",
     "text": [
      "\"Hello Connections!\" \n",
      "\n"
     ]
    }
   ],
   "source": [
    "file_handle = open(\"textfile.txt\",\"r\")\n",
    "contents = file_handle.read()\n",
    "print(contents)\n",
    "file_handle.close()"
   ]
  },
  {
   "cell_type": "code",
   "execution_count": 3,
   "id": "surface-arlington",
   "metadata": {},
   "outputs": [
    {
     "name": "stdout",
     "output_type": "stream",
     "text": [
      "This is first line.\n",
      "This is second line.\n"
     ]
    }
   ],
   "source": [
    "file_handle2 = open(\"textfile2.txt\",\"r\")\n",
    "contents2 = file_handle2.read()\n",
    "print(contents2)\n",
    "file_handle2.close()"
   ]
  },
  {
   "cell_type": "code",
   "execution_count": null,
   "id": "identified-traffic",
   "metadata": {},
   "outputs": [],
   "source": []
  }
 ],
 "metadata": {
  "kernelspec": {
   "display_name": "Python 3",
   "language": "python",
   "name": "python3"
  },
  "language_info": {
   "codemirror_mode": {
    "name": "ipython",
    "version": 3
   },
   "file_extension": ".py",
   "mimetype": "text/x-python",
   "name": "python",
   "nbconvert_exporter": "python",
   "pygments_lexer": "ipython3",
   "version": "3.8.5"
  }
 },
 "nbformat": 4,
 "nbformat_minor": 5
}
