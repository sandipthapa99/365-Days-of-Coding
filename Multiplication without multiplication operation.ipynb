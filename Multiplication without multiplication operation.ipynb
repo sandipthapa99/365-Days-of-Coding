{
 "cells": [
  {
   "cell_type": "code",
   "execution_count": 1,
   "id": "reported-space",
   "metadata": {},
   "outputs": [
    {
     "name": "stdout",
     "output_type": "stream",
     "text": [
      "Enter First number:2021\n",
      "Enter Second number:4\n",
      "2021 * 4 = 8084\n"
     ]
    }
   ],
   "source": [
    "x = int(input(\"Enter First number:\"))\n",
    "y = int(input(\"Enter Second number:\"))\n",
    "\n",
    "def multiply(x, y):\n",
    "    if y == 0:\n",
    "        return 0\n",
    "    elif y == 1:\n",
    "        return x\n",
    "    elif y < 0:\n",
    "        return -multiply(x, -y)\n",
    "    else:\n",
    "        return x + multiply(x, y - 1)\n",
    "\n",
    "print(x,\"*\",y,\"=\",multiply(x, y));"
   ]
  }
 ],
 "metadata": {
  "kernelspec": {
   "display_name": "Python 3",
   "language": "python",
   "name": "python3"
  },
  "language_info": {
   "codemirror_mode": {
    "name": "ipython",
    "version": 3
   },
   "file_extension": ".py",
   "mimetype": "text/x-python",
   "name": "python",
   "nbconvert_exporter": "python",
   "pygments_lexer": "ipython3",
   "version": "3.8.5"
  }
 },
 "nbformat": 4,
 "nbformat_minor": 5
}
