{
 "cells": [
  {
   "cell_type": "code",
   "execution_count": 4,
   "metadata": {},
   "outputs": [],
   "source": []
  },
  {
   "cell_type": "code",
   "execution_count": null,
   "metadata": {},
   "outputs": [
    {
     "name": "stdout",
     "output_type": "stream",
     "text": [
      "Options:\n",
      "1. Add\n",
      "2. Subtract:\n",
      "3. Multiply\n",
      "4. Divide\n",
      "5. Quit\n",
      "Choose a option: add\n",
      "Enter a number:12\n",
      "Enter another number:35\n",
      "12.0+35.0=47.0\n",
      "Options:\n",
      "1. Add\n",
      "2. Subtract:\n",
      "3. Multiply\n",
      "4. Divide\n",
      "5. Quit\n"
     ]
    }
   ],
   "source": [
    "while True: \n",
    "    print(\"Options:\")\n",
    "    print(\"1. Add\")\n",
    "    print(\"2. Subtract:\")\n",
    "    print(\"3. Multiply\")\n",
    "    print(\"4. Divide\")\n",
    "    print(\"5. Quit\")\n",
    "\n",
    "\n",
    "    user_input=input(\"Choose a option: \")\n",
    "   \n",
    "    if user_input==\"quit\" or user_input=='5':\n",
    "        print(\"The program is closed\")\n",
    "        break        \n",
    "        \n",
    "        \n",
    "    elif user_input==\"add\" or user_input=='1':\n",
    "        num1=float(input(\"Enter a number:\"))\n",
    "        num2=float(input(\"Enter another number:\"))\n",
    "        result=str(num1+num2)\n",
    "        print(str(num1) + \"+\" + str(num2) + \"=\" +result )\n",
    "        \n",
    "        \n",
    "        \n",
    "    elif user_input==\"subtract\" or user_input=='2':\n",
    "        num1=float(input(\"Enter a number.\"))\n",
    "        num2=float(input(\"Enter another number.\"))\n",
    "        result=str(num1-num2)\n",
    "        print(str(num1) + \"-\" + str(num2) + \"=\" +result )\n",
    "        \n",
    "               \n",
    "    elif user_input==\"multiply\" or user_input=='3':\n",
    "        num1=float(input(\"Enter a number.\"))\n",
    "        num2=float(input(\"Enter another number.\"))\n",
    "        result=str(num1*num2)\n",
    "        print(str(num1) + \"*\" + str(num2) + \"=\" +result )\n",
    "        \n",
    "        \n",
    "    elif user_input==\"divide\" or user_input=='4':\n",
    "        num1=float(input(\"Enter a number.\"))\n",
    "        num2=float(input(\"Enter another number.\"))\n",
    "        result=str(num1/num2)\n",
    "        print(str(num1) + \"/\" + str(num2) + \"=\" +result )\n",
    "        \n",
    "        \n",
    "        \n",
    "    else:\n",
    "        print(\"Invalid Input\")\n",
    "        break"
   ]
  },
  {
   "cell_type": "code",
   "execution_count": 20,
   "metadata": {},
   "outputs": [
    {
     "name": "stdout",
     "output_type": "stream",
     "text": [
      "Options:\n",
      "1. Add\n",
      "2. Subtract:\n",
      "3. Multiply\n",
      "4. Divide\n",
      "5. Quit\n",
      "choose a option: 1\n",
      "Enter a number:--1\n"
     ]
    },
    {
     "ename": "ValueError",
     "evalue": "could not convert string to float: '--1'",
     "output_type": "error",
     "traceback": [
      "\u001b[1;31m---------------------------------------------------------------------------\u001b[0m",
      "\u001b[1;31mValueError\u001b[0m                                Traceback (most recent call last)",
      "\u001b[1;32m<ipython-input-20-82dbe2d1c532>\u001b[0m in \u001b[0;36m<module>\u001b[1;34m\u001b[0m\n\u001b[0;32m      9\u001b[0m \u001b[1;33m\u001b[0m\u001b[0m\n\u001b[0;32m     10\u001b[0m \u001b[1;32mif\u001b[0m \u001b[0mentry\u001b[0m\u001b[1;33m==\u001b[0m\u001b[1;34m'1'\u001b[0m\u001b[1;33m:\u001b[0m\u001b[1;33m\u001b[0m\u001b[1;33m\u001b[0m\u001b[0m\n\u001b[1;32m---> 11\u001b[1;33m     \u001b[0mnum1\u001b[0m\u001b[1;33m=\u001b[0m\u001b[0mfloat\u001b[0m\u001b[1;33m(\u001b[0m\u001b[0minput\u001b[0m\u001b[1;33m(\u001b[0m\u001b[1;34m\"Enter a number:\"\u001b[0m\u001b[1;33m)\u001b[0m\u001b[1;33m)\u001b[0m\u001b[1;33m\u001b[0m\u001b[1;33m\u001b[0m\u001b[0m\n\u001b[0m\u001b[0;32m     12\u001b[0m     \u001b[0mnum2\u001b[0m\u001b[1;33m=\u001b[0m\u001b[0mfloat\u001b[0m\u001b[1;33m(\u001b[0m\u001b[0minput\u001b[0m\u001b[1;33m(\u001b[0m\u001b[1;34m\"Enter another number:\"\u001b[0m\u001b[1;33m)\u001b[0m\u001b[1;33m)\u001b[0m\u001b[1;33m\u001b[0m\u001b[1;33m\u001b[0m\u001b[0m\n\u001b[0;32m     13\u001b[0m     \u001b[0mresult\u001b[0m\u001b[1;33m=\u001b[0m\u001b[0mstr\u001b[0m\u001b[1;33m(\u001b[0m\u001b[0mnum1\u001b[0m\u001b[1;33m+\u001b[0m\u001b[0mnum2\u001b[0m\u001b[1;33m)\u001b[0m\u001b[1;33m\u001b[0m\u001b[1;33m\u001b[0m\u001b[0m\n",
      "\u001b[1;31mValueError\u001b[0m: could not convert string to float: '--1'"
     ]
    }
   ],
   "source": [
    "\n",
    "print(\"Options:\")\n",
    "print(\"1. Add\")\n",
    "print(\"2. Subtract:\")\n",
    "print(\"3. Multiply\")\n",
    "print(\"4. Divide\")\n",
    "print(\"5. Quit\")\n",
    "\n",
    "entry=input(\"choose a option: \")\n",
    "\n",
    "if entry=='1':\n",
    "    num1=float(input(\"Enter a number:\"))\n",
    "    num2=float(input(\"Enter another number:\"))\n",
    "    result=str(num1+num2)\n",
    "    print(str(num1) + \"+\" + str(num2) + \"=\" +result )\n",
    "elif entry=='2':\n",
    "    num1=float(input(\"Enter a number.\"))\n",
    "    num2=float(input(\"Enter another number.\"))\n",
    "    result=str(num1-num2)\n",
    "    print(str(num1) + \"-\" + str(num2) + \"=\" +result )\n",
    "elif entry=='3':\n",
    "    num1=float(input(\"Enter a number.\"))\n",
    "    num2=float(input(\"Enter another number.\"))\n",
    "    result=str(num1*num2)\n",
    "    print(str(num1) + \"*\" + str(num2) + \"=\" +result )\n",
    "elif entry=='4':\n",
    "    num1=float(input(\"Enter a number.\"))\n",
    "    num2=float(input(\"Enter another number.\"))\n",
    "    if(num2==0):\n",
    "        print(\"Cannot divide by Zero\")\n",
    "    else:\n",
    "        result=str(num1/num2)\n",
    "        print(str(num1) + \"/\" + str(num2) + \"=\" +result )\n",
    "elif entry=='5':\n",
    "    print(\"See you Soon!\")\n",
    "\n",
    "else:\n",
    "    print(\"Invalid Input!\")\n",
    "\n",
    "\n",
    "        "
   ]
  },
  {
   "cell_type": "code",
   "execution_count": 2,
   "metadata": {},
   "outputs": [
    {
     "name": "stdout",
     "output_type": "stream",
     "text": [
      "m\n"
     ]
    }
   ],
   "source": [
    "my_string=\"omething\"\n",
    "\n",
    "def fn():\n",
    "    for i in my_string:\n",
    "        if i not in \"aeiou\":\n",
    "            return print(i);\n",
    "fn()\n"
   ]
  },
  {
   "cell_type": "code",
   "execution_count": 35,
   "metadata": {},
   "outputs": [
    {
     "data": {
      "text/plain": [
       "15"
      ]
     },
     "execution_count": 35,
     "metadata": {},
     "output_type": "execute_result"
    }
   ],
   "source": [
    "\n",
    "def fn():\n",
    "    a=5\n",
    "    b=10\n",
    "    return a+b \n",
    "\n",
    "fn()"
   ]
  }
 ],
 "metadata": {
  "kernelspec": {
   "display_name": "Python 3",
   "language": "python",
   "name": "python3"
  },
  "language_info": {
   "codemirror_mode": {
    "name": "ipython",
    "version": 3
   },
   "file_extension": ".py",
   "mimetype": "text/x-python",
   "name": "python",
   "nbconvert_exporter": "python",
   "pygments_lexer": "ipython3",
   "version": "3.8.5"
  }
 },
 "nbformat": 4,
 "nbformat_minor": 4
}
