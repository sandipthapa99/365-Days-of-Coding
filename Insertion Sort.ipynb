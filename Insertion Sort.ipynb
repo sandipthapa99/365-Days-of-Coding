{
 "cells": [
  {
   "cell_type": "code",
   "execution_count": 1,
   "id": "wound-penguin",
   "metadata": {},
   "outputs": [
    {
     "name": "stdout",
     "output_type": "stream",
     "text": [
      "Sorted List: [5, 12, 20, 29, 33, 90, 99]\n"
     ]
    }
   ],
   "source": [
    "def insertionSort(num_list):\n",
    "    for num in range(1,len(num_list)):\n",
    "        current = num_list[num]\n",
    "        position = num\n",
    "        \n",
    "        while position > 0 and num_list[position-1] > current:\n",
    "                num_list[position] = num_list[position-1]\n",
    "                position = position-1\n",
    "        num_list[position] = current\n",
    "\n",
    "num_list = [20,29,12,90,33,99,5]\n",
    "insertionSort(num_list)\n",
    "print(\"Sorted List:\",num_list)"
   ]
  },
  {
   "cell_type": "code",
   "execution_count": null,
   "id": "empirical-acrobat",
   "metadata": {},
   "outputs": [],
   "source": []
  }
 ],
 "metadata": {
  "kernelspec": {
   "display_name": "Python 3",
   "language": "python",
   "name": "python3"
  },
  "language_info": {
   "codemirror_mode": {
    "name": "ipython",
    "version": 3
   },
   "file_extension": ".py",
   "mimetype": "text/x-python",
   "name": "python",
   "nbconvert_exporter": "python",
   "pygments_lexer": "ipython3",
   "version": "3.8.5"
  }
 },
 "nbformat": 4,
 "nbformat_minor": 5
}
